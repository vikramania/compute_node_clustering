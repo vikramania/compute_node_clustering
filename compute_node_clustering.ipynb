{
  "nbformat": 4,
  "nbformat_minor": 0,
  "metadata": {
    "colab": {
      "name": "compute_node_clustering.ipynb",
      "provenance": []
    },
    "kernelspec": {
      "name": "python3",
      "display_name": "Python 3"
    },
    "language_info": {
      "name": "python"
    }
  },
  "cells": [
    {
      "cell_type": "markdown",
      "source": [
        "# **READ ME** 📖\n",
        "---\n",
        "> Author  : [Adithya Vikram Raj Garoju](mailto:adithyagaroju96@gmail.com) 📧\n",
        "\n",
        "> Date: 10th May 2022 📅\n",
        "\n",
        "      Steps:\n",
        "      1. ELK logs are transformed accordingly to accomodate more data comparatively in lesser rows and columns. \n",
        "          *   Segregated data Metric wise\n",
        "          *   Merged them based on hostname inspite of timestamp\n",
        "\n",
        "\n",
        "      2. Based on Correlation (pearson coefficient) if any columns correlation factor is greater than 0.95 they can be excluded.\n",
        "\n",
        "      3. Performed following clustering techniques:\n",
        "            *   Gausian Mixture Model\n",
        "                - chosen n_components based on AIC and BIC trend.\n",
        "            *   DBSCAN\n",
        "                - started out with randome eps and min_samples.\n",
        "            *   Isolation Forest\n",
        "                - Chosen 5% contamination factor.\n",
        "\n",
        "      4. The better fit algorithm for current scenario among the above would be Isolation Forest classifier .\n",
        "          *  Due to comparitively low hyper-parameters to choose.\n",
        "          * Isolation Forest stands out when compared to both DBSCAN and GMM, since both of them follow Expectation Maximization Approach.\n",
        "          * Additionally we are not opting to segement given hosts to various classes we primarily want to deal with anomolies, we can skip to choose components or min_samples instead focusing on contamination factor.\n",
        "          * The data traffic is expected to receive for every 15 mins for finding host outliers.\n",
        "          * Isolation Forest would be a good fit for online model deployement due to its model persistence and it doesnt need to train every time unlike DBSCAN. We can predict new instances and recommend outliers.\n",
        "          * Also GMM would do but we need to choose n_components all the time which is not relevant at this point of time.\n",
        "          * We can utilize the warm_start param and update our model with new set of log data to prevent our model from getting stale. \n",
        "          (Also catching up with moore's law 😉)\n",
        "\n",
        "\n",
        "\n"
      ],
      "metadata": {
        "id": "OkKnadqu-J3V"
      }
    },
    {
      "cell_type": "markdown",
      "source": [
        "# Imports & Inputs"
      ],
      "metadata": {
        "id": "Tk9piy_sl2EB"
      }
    },
    {
      "cell_type": "code",
      "execution_count": null,
      "metadata": {
        "id": "u0oIpfgZ0Unf"
      },
      "outputs": [],
      "source": [
        "import numpy as np\n",
        "import pandas as pd\n",
        "import matplotlib.pyplot as plt\n",
        "%matplotlib inline\n",
        "import random\n",
        "import joblib\n",
        "\n",
        "import sklearn\n",
        "# from sklearn.cluster import KMeans\n",
        "from sklearn.preprocessing import StandardScaler\n",
        "from sklearn.decomposition import PCA\n",
        "from sklearn.mixture import GaussianMixture\n",
        "from sklearn.cluster import DBSCAN\n",
        "from sklearn.ensemble import IsolationForest\n",
        "\n",
        "import warnings\n",
        "warnings.filterwarnings(action='ignore')\n",
        "\n",
        "import seaborn as sns; sns.set()"
      ]
    },
    {
      "cell_type": "code",
      "source": [
        "INPUT_FILE_PATH = \"/content/drive/MyDrive/Take-Home Assignments/Unsupervised/data/unsupervised-NML_challenge-data.csv\"\n",
        "INPUT_FILE_DESC_PATH = \"/content/drive/MyDrive/Take-Home Assignments/Unsupervised/data/unsupervised-NML_challenge-field_descriptions.csv\"\n",
        "\n",
        "data = pd.read_csv(INPUT_FILE_PATH)\n",
        "data_desc = pd.read_csv(INPUT_FILE_DESC_PATH)"
      ],
      "metadata": {
        "id": "O-PAOzVa1Aid"
      },
      "execution_count": null,
      "outputs": []
    },
    {
      "cell_type": "markdown",
      "source": [
        "## Raw Data\n",
        "\n",
        "1. **ELK logs** dataset contains samples from **388** hosts.\n",
        "\n",
        "2. Each Metric holds data points which are significant features.\n",
        "  * *Total Processes* \n",
        "    * procs\n",
        "  * *CPU Utilization*\n",
        "    * cpuuser\n",
        "    * cpusystem\n",
        "    * cpuiowait\n",
        "    * cpuidle\n",
        "    * cpunice\n",
        "    * cpusteal\n",
        "  * *Load per Core* \n",
        "    * load1\n",
        "    * load5\n",
        "    * load15"
      ],
      "metadata": {
        "id": "oqz52DQDvtZ4"
      }
    },
    {
      "cell_type": "code",
      "source": [
        "data.head()"
      ],
      "metadata": {
        "colab": {
          "base_uri": "https://localhost:8080/"
        },
        "id": "nNDQP4Pliy-r",
        "outputId": "64dd45fb-d12b-4161-e5a9-4b86981b474d"
      },
      "execution_count": null,
      "outputs": [
        {
          "output_type": "execute_result",
          "data": {
            "text/plain": [
              "       timestamp hostname: Descending   description: Descending      avg1  \\\n",
              "0  1630051200000               host_0  System - Total Processes  1381.000   \n",
              "1  1630051200000               host_1  System - Total Processes  1066.000   \n",
              "2  1630051200000               host_2  System - CPU Utilization     0.444   \n",
              "3  1630051200000               host_2    System - Load per core     0.004   \n",
              "4  1630051200000               host_4  System - Total Processes  1439.000   \n",
              "\n",
              "    avg2   avg3    avg4  avg5  avg6  avg7  avg8  avg9  avg10  avg11  avg12  \\\n",
              "0    NaN    NaN     NaN   NaN   NaN   NaN   NaN   NaN    NaN    NaN    NaN   \n",
              "1    NaN    NaN     NaN   NaN   NaN   NaN   NaN   NaN    NaN    NaN    NaN   \n",
              "2  0.312  0.070  99.176   0.0   0.0   NaN   NaN   NaN    NaN    NaN    NaN   \n",
              "3  0.005  0.007     NaN   NaN   NaN   NaN   NaN   NaN    NaN    NaN    NaN   \n",
              "4    NaN    NaN     NaN   NaN   NaN   NaN   NaN   NaN    NaN    NaN    NaN   \n",
              "\n",
              "   avg13  \n",
              "0    NaN  \n",
              "1    NaN  \n",
              "2    NaN  \n",
              "3    NaN  \n",
              "4    NaN  "
            ],
            "text/html": [
              "\n",
              "  <div id=\"df-2322ed82-c5a8-4ebf-8280-850ae2c1aa0a\">\n",
              "    <div class=\"colab-df-container\">\n",
              "      <div>\n",
              "<style scoped>\n",
              "    .dataframe tbody tr th:only-of-type {\n",
              "        vertical-align: middle;\n",
              "    }\n",
              "\n",
              "    .dataframe tbody tr th {\n",
              "        vertical-align: top;\n",
              "    }\n",
              "\n",
              "    .dataframe thead th {\n",
              "        text-align: right;\n",
              "    }\n",
              "</style>\n",
              "<table border=\"1\" class=\"dataframe\">\n",
              "  <thead>\n",
              "    <tr style=\"text-align: right;\">\n",
              "      <th></th>\n",
              "      <th>timestamp</th>\n",
              "      <th>hostname: Descending</th>\n",
              "      <th>description: Descending</th>\n",
              "      <th>avg1</th>\n",
              "      <th>avg2</th>\n",
              "      <th>avg3</th>\n",
              "      <th>avg4</th>\n",
              "      <th>avg5</th>\n",
              "      <th>avg6</th>\n",
              "      <th>avg7</th>\n",
              "      <th>avg8</th>\n",
              "      <th>avg9</th>\n",
              "      <th>avg10</th>\n",
              "      <th>avg11</th>\n",
              "      <th>avg12</th>\n",
              "      <th>avg13</th>\n",
              "    </tr>\n",
              "  </thead>\n",
              "  <tbody>\n",
              "    <tr>\n",
              "      <th>0</th>\n",
              "      <td>1630051200000</td>\n",
              "      <td>host_0</td>\n",
              "      <td>System - Total Processes</td>\n",
              "      <td>1381.000</td>\n",
              "      <td>NaN</td>\n",
              "      <td>NaN</td>\n",
              "      <td>NaN</td>\n",
              "      <td>NaN</td>\n",
              "      <td>NaN</td>\n",
              "      <td>NaN</td>\n",
              "      <td>NaN</td>\n",
              "      <td>NaN</td>\n",
              "      <td>NaN</td>\n",
              "      <td>NaN</td>\n",
              "      <td>NaN</td>\n",
              "      <td>NaN</td>\n",
              "    </tr>\n",
              "    <tr>\n",
              "      <th>1</th>\n",
              "      <td>1630051200000</td>\n",
              "      <td>host_1</td>\n",
              "      <td>System - Total Processes</td>\n",
              "      <td>1066.000</td>\n",
              "      <td>NaN</td>\n",
              "      <td>NaN</td>\n",
              "      <td>NaN</td>\n",
              "      <td>NaN</td>\n",
              "      <td>NaN</td>\n",
              "      <td>NaN</td>\n",
              "      <td>NaN</td>\n",
              "      <td>NaN</td>\n",
              "      <td>NaN</td>\n",
              "      <td>NaN</td>\n",
              "      <td>NaN</td>\n",
              "      <td>NaN</td>\n",
              "    </tr>\n",
              "    <tr>\n",
              "      <th>2</th>\n",
              "      <td>1630051200000</td>\n",
              "      <td>host_2</td>\n",
              "      <td>System - CPU Utilization</td>\n",
              "      <td>0.444</td>\n",
              "      <td>0.312</td>\n",
              "      <td>0.070</td>\n",
              "      <td>99.176</td>\n",
              "      <td>0.0</td>\n",
              "      <td>0.0</td>\n",
              "      <td>NaN</td>\n",
              "      <td>NaN</td>\n",
              "      <td>NaN</td>\n",
              "      <td>NaN</td>\n",
              "      <td>NaN</td>\n",
              "      <td>NaN</td>\n",
              "      <td>NaN</td>\n",
              "    </tr>\n",
              "    <tr>\n",
              "      <th>3</th>\n",
              "      <td>1630051200000</td>\n",
              "      <td>host_2</td>\n",
              "      <td>System - Load per core</td>\n",
              "      <td>0.004</td>\n",
              "      <td>0.005</td>\n",
              "      <td>0.007</td>\n",
              "      <td>NaN</td>\n",
              "      <td>NaN</td>\n",
              "      <td>NaN</td>\n",
              "      <td>NaN</td>\n",
              "      <td>NaN</td>\n",
              "      <td>NaN</td>\n",
              "      <td>NaN</td>\n",
              "      <td>NaN</td>\n",
              "      <td>NaN</td>\n",
              "      <td>NaN</td>\n",
              "    </tr>\n",
              "    <tr>\n",
              "      <th>4</th>\n",
              "      <td>1630051200000</td>\n",
              "      <td>host_4</td>\n",
              "      <td>System - Total Processes</td>\n",
              "      <td>1439.000</td>\n",
              "      <td>NaN</td>\n",
              "      <td>NaN</td>\n",
              "      <td>NaN</td>\n",
              "      <td>NaN</td>\n",
              "      <td>NaN</td>\n",
              "      <td>NaN</td>\n",
              "      <td>NaN</td>\n",
              "      <td>NaN</td>\n",
              "      <td>NaN</td>\n",
              "      <td>NaN</td>\n",
              "      <td>NaN</td>\n",
              "      <td>NaN</td>\n",
              "    </tr>\n",
              "  </tbody>\n",
              "</table>\n",
              "</div>\n",
              "      <button class=\"colab-df-convert\" onclick=\"convertToInteractive('df-2322ed82-c5a8-4ebf-8280-850ae2c1aa0a')\"\n",
              "              title=\"Convert this dataframe to an interactive table.\"\n",
              "              style=\"display:none;\">\n",
              "        \n",
              "  <svg xmlns=\"http://www.w3.org/2000/svg\" height=\"24px\"viewBox=\"0 0 24 24\"\n",
              "       width=\"24px\">\n",
              "    <path d=\"M0 0h24v24H0V0z\" fill=\"none\"/>\n",
              "    <path d=\"M18.56 5.44l.94 2.06.94-2.06 2.06-.94-2.06-.94-.94-2.06-.94 2.06-2.06.94zm-11 1L8.5 8.5l.94-2.06 2.06-.94-2.06-.94L8.5 2.5l-.94 2.06-2.06.94zm10 10l.94 2.06.94-2.06 2.06-.94-2.06-.94-.94-2.06-.94 2.06-2.06.94z\"/><path d=\"M17.41 7.96l-1.37-1.37c-.4-.4-.92-.59-1.43-.59-.52 0-1.04.2-1.43.59L10.3 9.45l-7.72 7.72c-.78.78-.78 2.05 0 2.83L4 21.41c.39.39.9.59 1.41.59.51 0 1.02-.2 1.41-.59l7.78-7.78 2.81-2.81c.8-.78.8-2.07 0-2.86zM5.41 20L4 18.59l7.72-7.72 1.47 1.35L5.41 20z\"/>\n",
              "  </svg>\n",
              "      </button>\n",
              "      \n",
              "  <style>\n",
              "    .colab-df-container {\n",
              "      display:flex;\n",
              "      flex-wrap:wrap;\n",
              "      gap: 12px;\n",
              "    }\n",
              "\n",
              "    .colab-df-convert {\n",
              "      background-color: #E8F0FE;\n",
              "      border: none;\n",
              "      border-radius: 50%;\n",
              "      cursor: pointer;\n",
              "      display: none;\n",
              "      fill: #1967D2;\n",
              "      height: 32px;\n",
              "      padding: 0 0 0 0;\n",
              "      width: 32px;\n",
              "    }\n",
              "\n",
              "    .colab-df-convert:hover {\n",
              "      background-color: #E2EBFA;\n",
              "      box-shadow: 0px 1px 2px rgba(60, 64, 67, 0.3), 0px 1px 3px 1px rgba(60, 64, 67, 0.15);\n",
              "      fill: #174EA6;\n",
              "    }\n",
              "\n",
              "    [theme=dark] .colab-df-convert {\n",
              "      background-color: #3B4455;\n",
              "      fill: #D2E3FC;\n",
              "    }\n",
              "\n",
              "    [theme=dark] .colab-df-convert:hover {\n",
              "      background-color: #434B5C;\n",
              "      box-shadow: 0px 1px 3px 1px rgba(0, 0, 0, 0.15);\n",
              "      filter: drop-shadow(0px 1px 2px rgba(0, 0, 0, 0.3));\n",
              "      fill: #FFFFFF;\n",
              "    }\n",
              "  </style>\n",
              "\n",
              "      <script>\n",
              "        const buttonEl =\n",
              "          document.querySelector('#df-2322ed82-c5a8-4ebf-8280-850ae2c1aa0a button.colab-df-convert');\n",
              "        buttonEl.style.display =\n",
              "          google.colab.kernel.accessAllowed ? 'block' : 'none';\n",
              "\n",
              "        async function convertToInteractive(key) {\n",
              "          const element = document.querySelector('#df-2322ed82-c5a8-4ebf-8280-850ae2c1aa0a');\n",
              "          const dataTable =\n",
              "            await google.colab.kernel.invokeFunction('convertToInteractive',\n",
              "                                                     [key], {});\n",
              "          if (!dataTable) return;\n",
              "\n",
              "          const docLinkHtml = 'Like what you see? Visit the ' +\n",
              "            '<a target=\"_blank\" href=https://colab.research.google.com/notebooks/data_table.ipynb>data table notebook</a>'\n",
              "            + ' to learn more about interactive tables.';\n",
              "          element.innerHTML = '';\n",
              "          dataTable['output_type'] = 'display_data';\n",
              "          await google.colab.output.renderOutput(dataTable, element);\n",
              "          const docLink = document.createElement('div');\n",
              "          docLink.innerHTML = docLinkHtml;\n",
              "          element.appendChild(docLink);\n",
              "        }\n",
              "      </script>\n",
              "    </div>\n",
              "  </div>\n",
              "  "
            ]
          },
          "metadata": {},
          "execution_count": 3
        }
      ]
    },
    {
      "cell_type": "code",
      "source": [
        "data_desc.head()"
      ],
      "metadata": {
        "colab": {
          "base_uri": "https://localhost:8080/"
        },
        "id": "EC7IrBuPsWKf",
        "outputId": "587882ce-eef4-499a-dab0-c673e7aed54e"
      },
      "execution_count": null,
      "outputs": [
        {
          "output_type": "execute_result",
          "data": {
            "text/plain": [
              "                description perfdata.key1 perfdata.key2 perfdata.key3  \\\n",
              "0  System - CPU Utilization       cpuuser     cpusystem     cpuiowait   \n",
              "1    System - Load per core         load1         load5        load15   \n",
              "2  System - Total Processes         procs           NaN           NaN   \n",
              "\n",
              "  perfdata.key4 perfdata.key5 perfdata.key6  perfdata.key7  perfdata.key8  \\\n",
              "0       cpuidle       cpunice      cpusteal            NaN            NaN   \n",
              "1           NaN           NaN           NaN            NaN            NaN   \n",
              "2           NaN           NaN           NaN            NaN            NaN   \n",
              "\n",
              "   perfdata.key9  perfdata.key10  perfdata.key11  perfdata.key12  \\\n",
              "0            NaN             NaN             NaN             NaN   \n",
              "1            NaN             NaN             NaN             NaN   \n",
              "2            NaN             NaN             NaN             NaN   \n",
              "\n",
              "   perfdata.key13  \n",
              "0             NaN  \n",
              "1             NaN  \n",
              "2             NaN  "
            ],
            "text/html": [
              "\n",
              "  <div id=\"df-5b82dff8-9255-402a-ae99-192ea9903bc2\">\n",
              "    <div class=\"colab-df-container\">\n",
              "      <div>\n",
              "<style scoped>\n",
              "    .dataframe tbody tr th:only-of-type {\n",
              "        vertical-align: middle;\n",
              "    }\n",
              "\n",
              "    .dataframe tbody tr th {\n",
              "        vertical-align: top;\n",
              "    }\n",
              "\n",
              "    .dataframe thead th {\n",
              "        text-align: right;\n",
              "    }\n",
              "</style>\n",
              "<table border=\"1\" class=\"dataframe\">\n",
              "  <thead>\n",
              "    <tr style=\"text-align: right;\">\n",
              "      <th></th>\n",
              "      <th>description</th>\n",
              "      <th>perfdata.key1</th>\n",
              "      <th>perfdata.key2</th>\n",
              "      <th>perfdata.key3</th>\n",
              "      <th>perfdata.key4</th>\n",
              "      <th>perfdata.key5</th>\n",
              "      <th>perfdata.key6</th>\n",
              "      <th>perfdata.key7</th>\n",
              "      <th>perfdata.key8</th>\n",
              "      <th>perfdata.key9</th>\n",
              "      <th>perfdata.key10</th>\n",
              "      <th>perfdata.key11</th>\n",
              "      <th>perfdata.key12</th>\n",
              "      <th>perfdata.key13</th>\n",
              "    </tr>\n",
              "  </thead>\n",
              "  <tbody>\n",
              "    <tr>\n",
              "      <th>0</th>\n",
              "      <td>System - CPU Utilization</td>\n",
              "      <td>cpuuser</td>\n",
              "      <td>cpusystem</td>\n",
              "      <td>cpuiowait</td>\n",
              "      <td>cpuidle</td>\n",
              "      <td>cpunice</td>\n",
              "      <td>cpusteal</td>\n",
              "      <td>NaN</td>\n",
              "      <td>NaN</td>\n",
              "      <td>NaN</td>\n",
              "      <td>NaN</td>\n",
              "      <td>NaN</td>\n",
              "      <td>NaN</td>\n",
              "      <td>NaN</td>\n",
              "    </tr>\n",
              "    <tr>\n",
              "      <th>1</th>\n",
              "      <td>System - Load per core</td>\n",
              "      <td>load1</td>\n",
              "      <td>load5</td>\n",
              "      <td>load15</td>\n",
              "      <td>NaN</td>\n",
              "      <td>NaN</td>\n",
              "      <td>NaN</td>\n",
              "      <td>NaN</td>\n",
              "      <td>NaN</td>\n",
              "      <td>NaN</td>\n",
              "      <td>NaN</td>\n",
              "      <td>NaN</td>\n",
              "      <td>NaN</td>\n",
              "      <td>NaN</td>\n",
              "    </tr>\n",
              "    <tr>\n",
              "      <th>2</th>\n",
              "      <td>System - Total Processes</td>\n",
              "      <td>procs</td>\n",
              "      <td>NaN</td>\n",
              "      <td>NaN</td>\n",
              "      <td>NaN</td>\n",
              "      <td>NaN</td>\n",
              "      <td>NaN</td>\n",
              "      <td>NaN</td>\n",
              "      <td>NaN</td>\n",
              "      <td>NaN</td>\n",
              "      <td>NaN</td>\n",
              "      <td>NaN</td>\n",
              "      <td>NaN</td>\n",
              "      <td>NaN</td>\n",
              "    </tr>\n",
              "  </tbody>\n",
              "</table>\n",
              "</div>\n",
              "      <button class=\"colab-df-convert\" onclick=\"convertToInteractive('df-5b82dff8-9255-402a-ae99-192ea9903bc2')\"\n",
              "              title=\"Convert this dataframe to an interactive table.\"\n",
              "              style=\"display:none;\">\n",
              "        \n",
              "  <svg xmlns=\"http://www.w3.org/2000/svg\" height=\"24px\"viewBox=\"0 0 24 24\"\n",
              "       width=\"24px\">\n",
              "    <path d=\"M0 0h24v24H0V0z\" fill=\"none\"/>\n",
              "    <path d=\"M18.56 5.44l.94 2.06.94-2.06 2.06-.94-2.06-.94-.94-2.06-.94 2.06-2.06.94zm-11 1L8.5 8.5l.94-2.06 2.06-.94-2.06-.94L8.5 2.5l-.94 2.06-2.06.94zm10 10l.94 2.06.94-2.06 2.06-.94-2.06-.94-.94-2.06-.94 2.06-2.06.94z\"/><path d=\"M17.41 7.96l-1.37-1.37c-.4-.4-.92-.59-1.43-.59-.52 0-1.04.2-1.43.59L10.3 9.45l-7.72 7.72c-.78.78-.78 2.05 0 2.83L4 21.41c.39.39.9.59 1.41.59.51 0 1.02-.2 1.41-.59l7.78-7.78 2.81-2.81c.8-.78.8-2.07 0-2.86zM5.41 20L4 18.59l7.72-7.72 1.47 1.35L5.41 20z\"/>\n",
              "  </svg>\n",
              "      </button>\n",
              "      \n",
              "  <style>\n",
              "    .colab-df-container {\n",
              "      display:flex;\n",
              "      flex-wrap:wrap;\n",
              "      gap: 12px;\n",
              "    }\n",
              "\n",
              "    .colab-df-convert {\n",
              "      background-color: #E8F0FE;\n",
              "      border: none;\n",
              "      border-radius: 50%;\n",
              "      cursor: pointer;\n",
              "      display: none;\n",
              "      fill: #1967D2;\n",
              "      height: 32px;\n",
              "      padding: 0 0 0 0;\n",
              "      width: 32px;\n",
              "    }\n",
              "\n",
              "    .colab-df-convert:hover {\n",
              "      background-color: #E2EBFA;\n",
              "      box-shadow: 0px 1px 2px rgba(60, 64, 67, 0.3), 0px 1px 3px 1px rgba(60, 64, 67, 0.15);\n",
              "      fill: #174EA6;\n",
              "    }\n",
              "\n",
              "    [theme=dark] .colab-df-convert {\n",
              "      background-color: #3B4455;\n",
              "      fill: #D2E3FC;\n",
              "    }\n",
              "\n",
              "    [theme=dark] .colab-df-convert:hover {\n",
              "      background-color: #434B5C;\n",
              "      box-shadow: 0px 1px 3px 1px rgba(0, 0, 0, 0.15);\n",
              "      filter: drop-shadow(0px 1px 2px rgba(0, 0, 0, 0.3));\n",
              "      fill: #FFFFFF;\n",
              "    }\n",
              "  </style>\n",
              "\n",
              "      <script>\n",
              "        const buttonEl =\n",
              "          document.querySelector('#df-5b82dff8-9255-402a-ae99-192ea9903bc2 button.colab-df-convert');\n",
              "        buttonEl.style.display =\n",
              "          google.colab.kernel.accessAllowed ? 'block' : 'none';\n",
              "\n",
              "        async function convertToInteractive(key) {\n",
              "          const element = document.querySelector('#df-5b82dff8-9255-402a-ae99-192ea9903bc2');\n",
              "          const dataTable =\n",
              "            await google.colab.kernel.invokeFunction('convertToInteractive',\n",
              "                                                     [key], {});\n",
              "          if (!dataTable) return;\n",
              "\n",
              "          const docLinkHtml = 'Like what you see? Visit the ' +\n",
              "            '<a target=\"_blank\" href=https://colab.research.google.com/notebooks/data_table.ipynb>data table notebook</a>'\n",
              "            + ' to learn more about interactive tables.';\n",
              "          element.innerHTML = '';\n",
              "          dataTable['output_type'] = 'display_data';\n",
              "          await google.colab.output.renderOutput(dataTable, element);\n",
              "          const docLink = document.createElement('div');\n",
              "          docLink.innerHTML = docLinkHtml;\n",
              "          element.appendChild(docLink);\n",
              "        }\n",
              "      </script>\n",
              "    </div>\n",
              "  </div>\n",
              "  "
            ]
          },
          "metadata": {},
          "execution_count": 4
        }
      ]
    },
    {
      "cell_type": "markdown",
      "source": [
        "# Data Preparation"
      ],
      "metadata": {
        "id": "F1LvsQiTl4Xo"
      }
    },
    {
      "cell_type": "code",
      "source": [
        "### Missing values\n",
        "def miss_hit_ratio(df,title=None):\n",
        "  data_miss = df.isnull().sum().sort_values(ascending=False)/len(data)\n",
        "  data_miss *= 100\n",
        "  data_hit = (100-data_miss)\n",
        "  #----------------\n",
        "  labels = data_miss.index.sort_values()\n",
        "  # Stacked Bar Plot\n",
        "\n",
        "  WIDTH = 0.35\n",
        "\n",
        "  fig, ax  = plt.subplots()\n",
        "  fig.set_size_inches(18.5,10.5)\n",
        "  ax.bar(labels,data_miss, WIDTH, label='Miss')\n",
        "  ax.bar(labels,data_hit, WIDTH,label='Hit',bottom=data_miss)\n",
        "  ax.legend()\n",
        "  plt.xticks(rotation=45)\n",
        "  if title is not None:\n",
        "    plt.title(title,fontsize=40)\n",
        "  plt.show()"
      ],
      "metadata": {
        "id": "fWI-lqjy18v_"
      },
      "execution_count": null,
      "outputs": []
    },
    {
      "cell_type": "code",
      "source": [
        "data_desc = data_desc[data_desc.columns[:7]] #Considering valid columns only! columns from perfdata.key7 to perfdata.key13 does not provide any valuable information\n",
        "\n",
        "data = data[data.columns[1:9]] # In the similar fashion columns from avg7 to avg13 are complete missing values\n",
        "data.rename(columns={'hostname: Descending':'hostname','description: Descending':'description'},inplace=True)\n",
        "data.head() #avg7 to avg13 are complete missing values can eliminate them"
      ],
      "metadata": {
        "colab": {
          "base_uri": "https://localhost:8080/"
        },
        "id": "fmaaEIf01Aln",
        "outputId": "60f86eae-f6da-4767-f34c-a4837a976f2d"
      },
      "execution_count": null,
      "outputs": [
        {
          "output_type": "execute_result",
          "data": {
            "text/plain": [
              "  hostname               description      avg1   avg2   avg3    avg4  avg5  \\\n",
              "0   host_0  System - Total Processes  1381.000    NaN    NaN     NaN   NaN   \n",
              "1   host_1  System - Total Processes  1066.000    NaN    NaN     NaN   NaN   \n",
              "2   host_2  System - CPU Utilization     0.444  0.312  0.070  99.176   0.0   \n",
              "3   host_2    System - Load per core     0.004  0.005  0.007     NaN   NaN   \n",
              "4   host_4  System - Total Processes  1439.000    NaN    NaN     NaN   NaN   \n",
              "\n",
              "   avg6  \n",
              "0   NaN  \n",
              "1   NaN  \n",
              "2   0.0  \n",
              "3   NaN  \n",
              "4   NaN  "
            ],
            "text/html": [
              "\n",
              "  <div id=\"df-aac7f927-6ea2-402c-a067-2e93318cc209\">\n",
              "    <div class=\"colab-df-container\">\n",
              "      <div>\n",
              "<style scoped>\n",
              "    .dataframe tbody tr th:only-of-type {\n",
              "        vertical-align: middle;\n",
              "    }\n",
              "\n",
              "    .dataframe tbody tr th {\n",
              "        vertical-align: top;\n",
              "    }\n",
              "\n",
              "    .dataframe thead th {\n",
              "        text-align: right;\n",
              "    }\n",
              "</style>\n",
              "<table border=\"1\" class=\"dataframe\">\n",
              "  <thead>\n",
              "    <tr style=\"text-align: right;\">\n",
              "      <th></th>\n",
              "      <th>hostname</th>\n",
              "      <th>description</th>\n",
              "      <th>avg1</th>\n",
              "      <th>avg2</th>\n",
              "      <th>avg3</th>\n",
              "      <th>avg4</th>\n",
              "      <th>avg5</th>\n",
              "      <th>avg6</th>\n",
              "    </tr>\n",
              "  </thead>\n",
              "  <tbody>\n",
              "    <tr>\n",
              "      <th>0</th>\n",
              "      <td>host_0</td>\n",
              "      <td>System - Total Processes</td>\n",
              "      <td>1381.000</td>\n",
              "      <td>NaN</td>\n",
              "      <td>NaN</td>\n",
              "      <td>NaN</td>\n",
              "      <td>NaN</td>\n",
              "      <td>NaN</td>\n",
              "    </tr>\n",
              "    <tr>\n",
              "      <th>1</th>\n",
              "      <td>host_1</td>\n",
              "      <td>System - Total Processes</td>\n",
              "      <td>1066.000</td>\n",
              "      <td>NaN</td>\n",
              "      <td>NaN</td>\n",
              "      <td>NaN</td>\n",
              "      <td>NaN</td>\n",
              "      <td>NaN</td>\n",
              "    </tr>\n",
              "    <tr>\n",
              "      <th>2</th>\n",
              "      <td>host_2</td>\n",
              "      <td>System - CPU Utilization</td>\n",
              "      <td>0.444</td>\n",
              "      <td>0.312</td>\n",
              "      <td>0.070</td>\n",
              "      <td>99.176</td>\n",
              "      <td>0.0</td>\n",
              "      <td>0.0</td>\n",
              "    </tr>\n",
              "    <tr>\n",
              "      <th>3</th>\n",
              "      <td>host_2</td>\n",
              "      <td>System - Load per core</td>\n",
              "      <td>0.004</td>\n",
              "      <td>0.005</td>\n",
              "      <td>0.007</td>\n",
              "      <td>NaN</td>\n",
              "      <td>NaN</td>\n",
              "      <td>NaN</td>\n",
              "    </tr>\n",
              "    <tr>\n",
              "      <th>4</th>\n",
              "      <td>host_4</td>\n",
              "      <td>System - Total Processes</td>\n",
              "      <td>1439.000</td>\n",
              "      <td>NaN</td>\n",
              "      <td>NaN</td>\n",
              "      <td>NaN</td>\n",
              "      <td>NaN</td>\n",
              "      <td>NaN</td>\n",
              "    </tr>\n",
              "  </tbody>\n",
              "</table>\n",
              "</div>\n",
              "      <button class=\"colab-df-convert\" onclick=\"convertToInteractive('df-aac7f927-6ea2-402c-a067-2e93318cc209')\"\n",
              "              title=\"Convert this dataframe to an interactive table.\"\n",
              "              style=\"display:none;\">\n",
              "        \n",
              "  <svg xmlns=\"http://www.w3.org/2000/svg\" height=\"24px\"viewBox=\"0 0 24 24\"\n",
              "       width=\"24px\">\n",
              "    <path d=\"M0 0h24v24H0V0z\" fill=\"none\"/>\n",
              "    <path d=\"M18.56 5.44l.94 2.06.94-2.06 2.06-.94-2.06-.94-.94-2.06-.94 2.06-2.06.94zm-11 1L8.5 8.5l.94-2.06 2.06-.94-2.06-.94L8.5 2.5l-.94 2.06-2.06.94zm10 10l.94 2.06.94-2.06 2.06-.94-2.06-.94-.94-2.06-.94 2.06-2.06.94z\"/><path d=\"M17.41 7.96l-1.37-1.37c-.4-.4-.92-.59-1.43-.59-.52 0-1.04.2-1.43.59L10.3 9.45l-7.72 7.72c-.78.78-.78 2.05 0 2.83L4 21.41c.39.39.9.59 1.41.59.51 0 1.02-.2 1.41-.59l7.78-7.78 2.81-2.81c.8-.78.8-2.07 0-2.86zM5.41 20L4 18.59l7.72-7.72 1.47 1.35L5.41 20z\"/>\n",
              "  </svg>\n",
              "      </button>\n",
              "      \n",
              "  <style>\n",
              "    .colab-df-container {\n",
              "      display:flex;\n",
              "      flex-wrap:wrap;\n",
              "      gap: 12px;\n",
              "    }\n",
              "\n",
              "    .colab-df-convert {\n",
              "      background-color: #E8F0FE;\n",
              "      border: none;\n",
              "      border-radius: 50%;\n",
              "      cursor: pointer;\n",
              "      display: none;\n",
              "      fill: #1967D2;\n",
              "      height: 32px;\n",
              "      padding: 0 0 0 0;\n",
              "      width: 32px;\n",
              "    }\n",
              "\n",
              "    .colab-df-convert:hover {\n",
              "      background-color: #E2EBFA;\n",
              "      box-shadow: 0px 1px 2px rgba(60, 64, 67, 0.3), 0px 1px 3px 1px rgba(60, 64, 67, 0.15);\n",
              "      fill: #174EA6;\n",
              "    }\n",
              "\n",
              "    [theme=dark] .colab-df-convert {\n",
              "      background-color: #3B4455;\n",
              "      fill: #D2E3FC;\n",
              "    }\n",
              "\n",
              "    [theme=dark] .colab-df-convert:hover {\n",
              "      background-color: #434B5C;\n",
              "      box-shadow: 0px 1px 3px 1px rgba(0, 0, 0, 0.15);\n",
              "      filter: drop-shadow(0px 1px 2px rgba(0, 0, 0, 0.3));\n",
              "      fill: #FFFFFF;\n",
              "    }\n",
              "  </style>\n",
              "\n",
              "      <script>\n",
              "        const buttonEl =\n",
              "          document.querySelector('#df-aac7f927-6ea2-402c-a067-2e93318cc209 button.colab-df-convert');\n",
              "        buttonEl.style.display =\n",
              "          google.colab.kernel.accessAllowed ? 'block' : 'none';\n",
              "\n",
              "        async function convertToInteractive(key) {\n",
              "          const element = document.querySelector('#df-aac7f927-6ea2-402c-a067-2e93318cc209');\n",
              "          const dataTable =\n",
              "            await google.colab.kernel.invokeFunction('convertToInteractive',\n",
              "                                                     [key], {});\n",
              "          if (!dataTable) return;\n",
              "\n",
              "          const docLinkHtml = 'Like what you see? Visit the ' +\n",
              "            '<a target=\"_blank\" href=https://colab.research.google.com/notebooks/data_table.ipynb>data table notebook</a>'\n",
              "            + ' to learn more about interactive tables.';\n",
              "          element.innerHTML = '';\n",
              "          dataTable['output_type'] = 'display_data';\n",
              "          await google.colab.output.renderOutput(dataTable, element);\n",
              "          const docLink = document.createElement('div');\n",
              "          docLink.innerHTML = docLinkHtml;\n",
              "          element.appendChild(docLink);\n",
              "        }\n",
              "      </script>\n",
              "    </div>\n",
              "  </div>\n",
              "  "
            ]
          },
          "metadata": {},
          "execution_count": 6
        }
      ]
    },
    {
      "cell_type": "code",
      "source": [
        "print(\"Shape of data before transformation\", data.shape, \"and their missing values in total\", data.isna().sum().sum())"
      ],
      "metadata": {
        "colab": {
          "base_uri": "https://localhost:8080/"
        },
        "id": "ZkQzS7BxIlgL",
        "outputId": "dc454a85-c27e-4157-a39c-856366bc5629"
      },
      "execution_count": null,
      "outputs": [
        {
          "output_type": "stream",
          "name": "stdout",
          "text": [
            "Shape of data before transformation (1541, 8) and their missing values in total 5837\n"
          ]
        }
      ]
    },
    {
      "cell_type": "markdown",
      "source": [
        "**Metric Nomenclature**\n",
        "\n",
        "Since the meta data has been provided, lets make use of more detailed column names! "
      ],
      "metadata": {
        "id": "l_jhIsHM2BrF"
      }
    },
    {
      "cell_type": "code",
      "source": [
        "for df in (data,data_desc):\n",
        "  df.description = df.description.str.replace('System - ','') # Removing redundant words\n",
        "  df.description = df.description.str.replace(' ','_').str.lower() # Replace Spaces with underscore"
      ],
      "metadata": {
        "id": "Z2w-4kVytZdy"
      },
      "execution_count": null,
      "outputs": []
    },
    {
      "cell_type": "code",
      "source": [
        "total_processes =  data[data.description=='total_processes']\n",
        "cpu_utilization = data[data.description=='cpu_utilization']\n",
        "load_per_core = data[data.description=='load_per_core']\n",
        "#---------------------\n",
        "for df in (total_processes, cpu_utilization, load_per_core):\n",
        "  _description = df.description.unique()[0]\n",
        "  cols = data_desc[data_desc.description == _description].dropna(axis=1).values#.tolist()\n",
        "  cols = cols.tolist()[0][1:]\n",
        "  print(_description,' -> ',cols)\n",
        "  cols = ['hostname'] + cols\n",
        "  df.drop('description',axis=1,inplace=True)\n",
        "  df.reset_index(drop=True,inplace=True)\n",
        "  df.rename(columns=dict(zip(df.columns,cols)),inplace=True)\n",
        "  df.drop(df.columns[~df.columns.isin(cols)],axis=1,inplace=True)"
      ],
      "metadata": {
        "colab": {
          "base_uri": "https://localhost:8080/"
        },
        "id": "YzkALfx9lwBi",
        "outputId": "7d624aad-9dbf-4e0e-948b-4834fe7736c1"
      },
      "execution_count": null,
      "outputs": [
        {
          "output_type": "stream",
          "name": "stdout",
          "text": [
            "total_processes  ->  ['procs']\n",
            "cpu_utilization  ->  ['cpuuser', 'cpusystem', 'cpuiowait', 'cpuidle', 'cpunice', 'cpusteal']\n",
            "load_per_core  ->  ['load1', 'load5', 'load15']\n"
          ]
        }
      ]
    },
    {
      "cell_type": "markdown",
      "source": [
        "### Merging Metric Subsets"
      ],
      "metadata": {
        "id": "iIoVa4A5wE8N"
      }
    },
    {
      "cell_type": "code",
      "source": [
        "transformed_data = pd.merge(cpu_utilization,total_processes,on='hostname')\n",
        "transformed_data = pd.merge(transformed_data,load_per_core,on='hostname')\n",
        "transformed_data.fillna(0,inplace=True)\n",
        "transformed_data.describe()"
      ],
      "metadata": {
        "colab": {
          "base_uri": "https://localhost:8080/"
        },
        "id": "OdWT6FUnx_R_",
        "outputId": "8151bc77-ef0e-40d9-8640-84196f593e2b"
      },
      "execution_count": null,
      "outputs": [
        {
          "output_type": "execute_result",
          "data": {
            "text/plain": [
              "          cpuuser   cpusystem   cpuiowait     cpuidle     cpunice  cpusteal  \\\n",
              "count  477.000000  477.000000  477.000000  477.000000  477.000000     477.0   \n",
              "mean     2.184256    0.482256    0.030382   96.365681    0.097589       0.0   \n",
              "std      3.790489    0.560518    0.100366    9.936728    0.323540       0.0   \n",
              "min      0.000000    0.000000    0.000000    0.000000    0.000000       0.0   \n",
              "25%      0.216000    0.124000    0.000000   95.572000    0.000000       0.0   \n",
              "50%      0.384000    0.166000    0.002000   99.278000    0.000000       0.0   \n",
              "75%      3.342000    0.626000    0.018000   99.654000    0.002000       0.0   \n",
              "max     40.262000    2.524000    0.666000   99.810000    3.048000       0.0   \n",
              "\n",
              "             procs       load1       load5      load15  \n",
              "count   477.000000  477.000000  477.000000  477.000000  \n",
              "mean   1589.119497    0.030826    0.028281    0.029040  \n",
              "std     455.342018    0.051085    0.046079    0.046771  \n",
              "min       0.000000    0.000000    0.000000    0.000000  \n",
              "25%    1368.000000    0.003000    0.003000    0.003000  \n",
              "50%    1396.000000    0.007000    0.007000    0.007000  \n",
              "75%    1656.000000    0.043000    0.039000    0.042000  \n",
              "max    4131.000000    0.415000    0.416000    0.413000  "
            ],
            "text/html": [
              "\n",
              "  <div id=\"df-c9a7849c-46ef-4447-bd92-64fe9441376a\">\n",
              "    <div class=\"colab-df-container\">\n",
              "      <div>\n",
              "<style scoped>\n",
              "    .dataframe tbody tr th:only-of-type {\n",
              "        vertical-align: middle;\n",
              "    }\n",
              "\n",
              "    .dataframe tbody tr th {\n",
              "        vertical-align: top;\n",
              "    }\n",
              "\n",
              "    .dataframe thead th {\n",
              "        text-align: right;\n",
              "    }\n",
              "</style>\n",
              "<table border=\"1\" class=\"dataframe\">\n",
              "  <thead>\n",
              "    <tr style=\"text-align: right;\">\n",
              "      <th></th>\n",
              "      <th>cpuuser</th>\n",
              "      <th>cpusystem</th>\n",
              "      <th>cpuiowait</th>\n",
              "      <th>cpuidle</th>\n",
              "      <th>cpunice</th>\n",
              "      <th>cpusteal</th>\n",
              "      <th>procs</th>\n",
              "      <th>load1</th>\n",
              "      <th>load5</th>\n",
              "      <th>load15</th>\n",
              "    </tr>\n",
              "  </thead>\n",
              "  <tbody>\n",
              "    <tr>\n",
              "      <th>count</th>\n",
              "      <td>477.000000</td>\n",
              "      <td>477.000000</td>\n",
              "      <td>477.000000</td>\n",
              "      <td>477.000000</td>\n",
              "      <td>477.000000</td>\n",
              "      <td>477.0</td>\n",
              "      <td>477.000000</td>\n",
              "      <td>477.000000</td>\n",
              "      <td>477.000000</td>\n",
              "      <td>477.000000</td>\n",
              "    </tr>\n",
              "    <tr>\n",
              "      <th>mean</th>\n",
              "      <td>2.184256</td>\n",
              "      <td>0.482256</td>\n",
              "      <td>0.030382</td>\n",
              "      <td>96.365681</td>\n",
              "      <td>0.097589</td>\n",
              "      <td>0.0</td>\n",
              "      <td>1589.119497</td>\n",
              "      <td>0.030826</td>\n",
              "      <td>0.028281</td>\n",
              "      <td>0.029040</td>\n",
              "    </tr>\n",
              "    <tr>\n",
              "      <th>std</th>\n",
              "      <td>3.790489</td>\n",
              "      <td>0.560518</td>\n",
              "      <td>0.100366</td>\n",
              "      <td>9.936728</td>\n",
              "      <td>0.323540</td>\n",
              "      <td>0.0</td>\n",
              "      <td>455.342018</td>\n",
              "      <td>0.051085</td>\n",
              "      <td>0.046079</td>\n",
              "      <td>0.046771</td>\n",
              "    </tr>\n",
              "    <tr>\n",
              "      <th>min</th>\n",
              "      <td>0.000000</td>\n",
              "      <td>0.000000</td>\n",
              "      <td>0.000000</td>\n",
              "      <td>0.000000</td>\n",
              "      <td>0.000000</td>\n",
              "      <td>0.0</td>\n",
              "      <td>0.000000</td>\n",
              "      <td>0.000000</td>\n",
              "      <td>0.000000</td>\n",
              "      <td>0.000000</td>\n",
              "    </tr>\n",
              "    <tr>\n",
              "      <th>25%</th>\n",
              "      <td>0.216000</td>\n",
              "      <td>0.124000</td>\n",
              "      <td>0.000000</td>\n",
              "      <td>95.572000</td>\n",
              "      <td>0.000000</td>\n",
              "      <td>0.0</td>\n",
              "      <td>1368.000000</td>\n",
              "      <td>0.003000</td>\n",
              "      <td>0.003000</td>\n",
              "      <td>0.003000</td>\n",
              "    </tr>\n",
              "    <tr>\n",
              "      <th>50%</th>\n",
              "      <td>0.384000</td>\n",
              "      <td>0.166000</td>\n",
              "      <td>0.002000</td>\n",
              "      <td>99.278000</td>\n",
              "      <td>0.000000</td>\n",
              "      <td>0.0</td>\n",
              "      <td>1396.000000</td>\n",
              "      <td>0.007000</td>\n",
              "      <td>0.007000</td>\n",
              "      <td>0.007000</td>\n",
              "    </tr>\n",
              "    <tr>\n",
              "      <th>75%</th>\n",
              "      <td>3.342000</td>\n",
              "      <td>0.626000</td>\n",
              "      <td>0.018000</td>\n",
              "      <td>99.654000</td>\n",
              "      <td>0.002000</td>\n",
              "      <td>0.0</td>\n",
              "      <td>1656.000000</td>\n",
              "      <td>0.043000</td>\n",
              "      <td>0.039000</td>\n",
              "      <td>0.042000</td>\n",
              "    </tr>\n",
              "    <tr>\n",
              "      <th>max</th>\n",
              "      <td>40.262000</td>\n",
              "      <td>2.524000</td>\n",
              "      <td>0.666000</td>\n",
              "      <td>99.810000</td>\n",
              "      <td>3.048000</td>\n",
              "      <td>0.0</td>\n",
              "      <td>4131.000000</td>\n",
              "      <td>0.415000</td>\n",
              "      <td>0.416000</td>\n",
              "      <td>0.413000</td>\n",
              "    </tr>\n",
              "  </tbody>\n",
              "</table>\n",
              "</div>\n",
              "      <button class=\"colab-df-convert\" onclick=\"convertToInteractive('df-c9a7849c-46ef-4447-bd92-64fe9441376a')\"\n",
              "              title=\"Convert this dataframe to an interactive table.\"\n",
              "              style=\"display:none;\">\n",
              "        \n",
              "  <svg xmlns=\"http://www.w3.org/2000/svg\" height=\"24px\"viewBox=\"0 0 24 24\"\n",
              "       width=\"24px\">\n",
              "    <path d=\"M0 0h24v24H0V0z\" fill=\"none\"/>\n",
              "    <path d=\"M18.56 5.44l.94 2.06.94-2.06 2.06-.94-2.06-.94-.94-2.06-.94 2.06-2.06.94zm-11 1L8.5 8.5l.94-2.06 2.06-.94-2.06-.94L8.5 2.5l-.94 2.06-2.06.94zm10 10l.94 2.06.94-2.06 2.06-.94-2.06-.94-.94-2.06-.94 2.06-2.06.94z\"/><path d=\"M17.41 7.96l-1.37-1.37c-.4-.4-.92-.59-1.43-.59-.52 0-1.04.2-1.43.59L10.3 9.45l-7.72 7.72c-.78.78-.78 2.05 0 2.83L4 21.41c.39.39.9.59 1.41.59.51 0 1.02-.2 1.41-.59l7.78-7.78 2.81-2.81c.8-.78.8-2.07 0-2.86zM5.41 20L4 18.59l7.72-7.72 1.47 1.35L5.41 20z\"/>\n",
              "  </svg>\n",
              "      </button>\n",
              "      \n",
              "  <style>\n",
              "    .colab-df-container {\n",
              "      display:flex;\n",
              "      flex-wrap:wrap;\n",
              "      gap: 12px;\n",
              "    }\n",
              "\n",
              "    .colab-df-convert {\n",
              "      background-color: #E8F0FE;\n",
              "      border: none;\n",
              "      border-radius: 50%;\n",
              "      cursor: pointer;\n",
              "      display: none;\n",
              "      fill: #1967D2;\n",
              "      height: 32px;\n",
              "      padding: 0 0 0 0;\n",
              "      width: 32px;\n",
              "    }\n",
              "\n",
              "    .colab-df-convert:hover {\n",
              "      background-color: #E2EBFA;\n",
              "      box-shadow: 0px 1px 2px rgba(60, 64, 67, 0.3), 0px 1px 3px 1px rgba(60, 64, 67, 0.15);\n",
              "      fill: #174EA6;\n",
              "    }\n",
              "\n",
              "    [theme=dark] .colab-df-convert {\n",
              "      background-color: #3B4455;\n",
              "      fill: #D2E3FC;\n",
              "    }\n",
              "\n",
              "    [theme=dark] .colab-df-convert:hover {\n",
              "      background-color: #434B5C;\n",
              "      box-shadow: 0px 1px 3px 1px rgba(0, 0, 0, 0.15);\n",
              "      filter: drop-shadow(0px 1px 2px rgba(0, 0, 0, 0.3));\n",
              "      fill: #FFFFFF;\n",
              "    }\n",
              "  </style>\n",
              "\n",
              "      <script>\n",
              "        const buttonEl =\n",
              "          document.querySelector('#df-c9a7849c-46ef-4447-bd92-64fe9441376a button.colab-df-convert');\n",
              "        buttonEl.style.display =\n",
              "          google.colab.kernel.accessAllowed ? 'block' : 'none';\n",
              "\n",
              "        async function convertToInteractive(key) {\n",
              "          const element = document.querySelector('#df-c9a7849c-46ef-4447-bd92-64fe9441376a');\n",
              "          const dataTable =\n",
              "            await google.colab.kernel.invokeFunction('convertToInteractive',\n",
              "                                                     [key], {});\n",
              "          if (!dataTable) return;\n",
              "\n",
              "          const docLinkHtml = 'Like what you see? Visit the ' +\n",
              "            '<a target=\"_blank\" href=https://colab.research.google.com/notebooks/data_table.ipynb>data table notebook</a>'\n",
              "            + ' to learn more about interactive tables.';\n",
              "          element.innerHTML = '';\n",
              "          dataTable['output_type'] = 'display_data';\n",
              "          await google.colab.output.renderOutput(dataTable, element);\n",
              "          const docLink = document.createElement('div');\n",
              "          docLink.innerHTML = docLinkHtml;\n",
              "          element.appendChild(docLink);\n",
              "        }\n",
              "      </script>\n",
              "    </div>\n",
              "  </div>\n",
              "  "
            ]
          },
          "metadata": {},
          "execution_count": 10
        }
      ]
    },
    {
      "cell_type": "code",
      "source": [
        "print(\"Shape of transformed data\", transformed_data.shape)\n",
        "print(\"No of Eliminated False Missing Values\", data.shape[0]+data.shape[1]-transformed_data.shape[0]+transformed_data.shape[1])"
      ],
      "metadata": {
        "colab": {
          "base_uri": "https://localhost:8080/"
        },
        "id": "ME2WqCwY5H9m",
        "outputId": "de061640-d479-4249-bb7a-d922cc1cd53e"
      },
      "execution_count": null,
      "outputs": [
        {
          "output_type": "stream",
          "name": "stdout",
          "text": [
            "Shape of transformed data (477, 11)\n",
            "No of Eliminated False Missing Values 1083\n"
          ]
        }
      ]
    },
    {
      "cell_type": "code",
      "source": [
        "# Scaling is required because the procs is very much high when compared to any other field\n",
        "transformed_data.drop('cpusteal',axis=1,inplace=True) # since no useful contribution to predict anything - just adds extra memory to process"
      ],
      "metadata": {
        "id": "8rPHMhAGu1NI"
      },
      "execution_count": null,
      "outputs": []
    },
    {
      "cell_type": "code",
      "source": [
        "# transformed_data[transformed_data.columns[1]]\n",
        "# miss_hit_ratio(transformed_data,title=\"Effect of Transformation\")"
      ],
      "metadata": {
        "id": "g0pEJnYHw3FS"
      },
      "execution_count": null,
      "outputs": []
    },
    {
      "cell_type": "code",
      "source": [
        "transformed_data"
      ],
      "metadata": {
        "id": "FWaVVsNp3Ikm",
        "colab": {
          "base_uri": "https://localhost:8080/"
        },
        "outputId": "4b16c4a2-5352-4377-9fa0-e7aebe0fc7ed"
      },
      "execution_count": null,
      "outputs": [
        {
          "output_type": "execute_result",
          "data": {
            "text/plain": [
              "     hostname  cpuuser  cpusystem  cpuiowait  cpuidle  cpunice   procs  load1  \\\n",
              "0      host_2    0.444      0.312      0.070   99.176    0.000  1448.0  0.004   \n",
              "1      host_9    0.204      0.108      0.000   99.688    0.000  1355.0  0.002   \n",
              "2      host_9    0.204      0.108      0.000   99.688    0.000  1342.0  0.002   \n",
              "3     host_14    0.232      0.118      0.000   99.648    0.000  1362.0  0.002   \n",
              "4     host_14    0.232      0.118      0.000   99.648    0.000  1362.0  0.001   \n",
              "..        ...      ...        ...        ...      ...      ...     ...    ...   \n",
              "472  host_347    2.422      1.188      0.034   96.210    0.146  4040.0  0.083   \n",
              "473  host_363    5.716      1.232      0.024   89.982    3.048  2601.0  0.155   \n",
              "474  host_373    9.268      2.332      0.278   87.958    0.168  2826.0  0.131   \n",
              "475  host_388    0.608      0.174      0.026   99.192    0.000  1402.0  0.004   \n",
              "476  host_391    2.772      0.642      0.030   96.556    0.000  1439.0  0.026   \n",
              "\n",
              "     load5  load15  \n",
              "0    0.005   0.007  \n",
              "1    0.002   0.003  \n",
              "2    0.002   0.003  \n",
              "3    0.002   0.002  \n",
              "4    0.001   0.002  \n",
              "..     ...     ...  \n",
              "472  0.061   0.066  \n",
              "473  0.117   0.089  \n",
              "474  0.104   0.110  \n",
              "475  0.005   0.004  \n",
              "476  0.028   0.033  \n",
              "\n",
              "[477 rows x 10 columns]"
            ],
            "text/html": [
              "\n",
              "  <div id=\"df-14ed553a-8b54-4eff-b8a9-142f31da620e\">\n",
              "    <div class=\"colab-df-container\">\n",
              "      <div>\n",
              "<style scoped>\n",
              "    .dataframe tbody tr th:only-of-type {\n",
              "        vertical-align: middle;\n",
              "    }\n",
              "\n",
              "    .dataframe tbody tr th {\n",
              "        vertical-align: top;\n",
              "    }\n",
              "\n",
              "    .dataframe thead th {\n",
              "        text-align: right;\n",
              "    }\n",
              "</style>\n",
              "<table border=\"1\" class=\"dataframe\">\n",
              "  <thead>\n",
              "    <tr style=\"text-align: right;\">\n",
              "      <th></th>\n",
              "      <th>hostname</th>\n",
              "      <th>cpuuser</th>\n",
              "      <th>cpusystem</th>\n",
              "      <th>cpuiowait</th>\n",
              "      <th>cpuidle</th>\n",
              "      <th>cpunice</th>\n",
              "      <th>procs</th>\n",
              "      <th>load1</th>\n",
              "      <th>load5</th>\n",
              "      <th>load15</th>\n",
              "    </tr>\n",
              "  </thead>\n",
              "  <tbody>\n",
              "    <tr>\n",
              "      <th>0</th>\n",
              "      <td>host_2</td>\n",
              "      <td>0.444</td>\n",
              "      <td>0.312</td>\n",
              "      <td>0.070</td>\n",
              "      <td>99.176</td>\n",
              "      <td>0.000</td>\n",
              "      <td>1448.0</td>\n",
              "      <td>0.004</td>\n",
              "      <td>0.005</td>\n",
              "      <td>0.007</td>\n",
              "    </tr>\n",
              "    <tr>\n",
              "      <th>1</th>\n",
              "      <td>host_9</td>\n",
              "      <td>0.204</td>\n",
              "      <td>0.108</td>\n",
              "      <td>0.000</td>\n",
              "      <td>99.688</td>\n",
              "      <td>0.000</td>\n",
              "      <td>1355.0</td>\n",
              "      <td>0.002</td>\n",
              "      <td>0.002</td>\n",
              "      <td>0.003</td>\n",
              "    </tr>\n",
              "    <tr>\n",
              "      <th>2</th>\n",
              "      <td>host_9</td>\n",
              "      <td>0.204</td>\n",
              "      <td>0.108</td>\n",
              "      <td>0.000</td>\n",
              "      <td>99.688</td>\n",
              "      <td>0.000</td>\n",
              "      <td>1342.0</td>\n",
              "      <td>0.002</td>\n",
              "      <td>0.002</td>\n",
              "      <td>0.003</td>\n",
              "    </tr>\n",
              "    <tr>\n",
              "      <th>3</th>\n",
              "      <td>host_14</td>\n",
              "      <td>0.232</td>\n",
              "      <td>0.118</td>\n",
              "      <td>0.000</td>\n",
              "      <td>99.648</td>\n",
              "      <td>0.000</td>\n",
              "      <td>1362.0</td>\n",
              "      <td>0.002</td>\n",
              "      <td>0.002</td>\n",
              "      <td>0.002</td>\n",
              "    </tr>\n",
              "    <tr>\n",
              "      <th>4</th>\n",
              "      <td>host_14</td>\n",
              "      <td>0.232</td>\n",
              "      <td>0.118</td>\n",
              "      <td>0.000</td>\n",
              "      <td>99.648</td>\n",
              "      <td>0.000</td>\n",
              "      <td>1362.0</td>\n",
              "      <td>0.001</td>\n",
              "      <td>0.001</td>\n",
              "      <td>0.002</td>\n",
              "    </tr>\n",
              "    <tr>\n",
              "      <th>...</th>\n",
              "      <td>...</td>\n",
              "      <td>...</td>\n",
              "      <td>...</td>\n",
              "      <td>...</td>\n",
              "      <td>...</td>\n",
              "      <td>...</td>\n",
              "      <td>...</td>\n",
              "      <td>...</td>\n",
              "      <td>...</td>\n",
              "      <td>...</td>\n",
              "    </tr>\n",
              "    <tr>\n",
              "      <th>472</th>\n",
              "      <td>host_347</td>\n",
              "      <td>2.422</td>\n",
              "      <td>1.188</td>\n",
              "      <td>0.034</td>\n",
              "      <td>96.210</td>\n",
              "      <td>0.146</td>\n",
              "      <td>4040.0</td>\n",
              "      <td>0.083</td>\n",
              "      <td>0.061</td>\n",
              "      <td>0.066</td>\n",
              "    </tr>\n",
              "    <tr>\n",
              "      <th>473</th>\n",
              "      <td>host_363</td>\n",
              "      <td>5.716</td>\n",
              "      <td>1.232</td>\n",
              "      <td>0.024</td>\n",
              "      <td>89.982</td>\n",
              "      <td>3.048</td>\n",
              "      <td>2601.0</td>\n",
              "      <td>0.155</td>\n",
              "      <td>0.117</td>\n",
              "      <td>0.089</td>\n",
              "    </tr>\n",
              "    <tr>\n",
              "      <th>474</th>\n",
              "      <td>host_373</td>\n",
              "      <td>9.268</td>\n",
              "      <td>2.332</td>\n",
              "      <td>0.278</td>\n",
              "      <td>87.958</td>\n",
              "      <td>0.168</td>\n",
              "      <td>2826.0</td>\n",
              "      <td>0.131</td>\n",
              "      <td>0.104</td>\n",
              "      <td>0.110</td>\n",
              "    </tr>\n",
              "    <tr>\n",
              "      <th>475</th>\n",
              "      <td>host_388</td>\n",
              "      <td>0.608</td>\n",
              "      <td>0.174</td>\n",
              "      <td>0.026</td>\n",
              "      <td>99.192</td>\n",
              "      <td>0.000</td>\n",
              "      <td>1402.0</td>\n",
              "      <td>0.004</td>\n",
              "      <td>0.005</td>\n",
              "      <td>0.004</td>\n",
              "    </tr>\n",
              "    <tr>\n",
              "      <th>476</th>\n",
              "      <td>host_391</td>\n",
              "      <td>2.772</td>\n",
              "      <td>0.642</td>\n",
              "      <td>0.030</td>\n",
              "      <td>96.556</td>\n",
              "      <td>0.000</td>\n",
              "      <td>1439.0</td>\n",
              "      <td>0.026</td>\n",
              "      <td>0.028</td>\n",
              "      <td>0.033</td>\n",
              "    </tr>\n",
              "  </tbody>\n",
              "</table>\n",
              "<p>477 rows × 10 columns</p>\n",
              "</div>\n",
              "      <button class=\"colab-df-convert\" onclick=\"convertToInteractive('df-14ed553a-8b54-4eff-b8a9-142f31da620e')\"\n",
              "              title=\"Convert this dataframe to an interactive table.\"\n",
              "              style=\"display:none;\">\n",
              "        \n",
              "  <svg xmlns=\"http://www.w3.org/2000/svg\" height=\"24px\"viewBox=\"0 0 24 24\"\n",
              "       width=\"24px\">\n",
              "    <path d=\"M0 0h24v24H0V0z\" fill=\"none\"/>\n",
              "    <path d=\"M18.56 5.44l.94 2.06.94-2.06 2.06-.94-2.06-.94-.94-2.06-.94 2.06-2.06.94zm-11 1L8.5 8.5l.94-2.06 2.06-.94-2.06-.94L8.5 2.5l-.94 2.06-2.06.94zm10 10l.94 2.06.94-2.06 2.06-.94-2.06-.94-.94-2.06-.94 2.06-2.06.94z\"/><path d=\"M17.41 7.96l-1.37-1.37c-.4-.4-.92-.59-1.43-.59-.52 0-1.04.2-1.43.59L10.3 9.45l-7.72 7.72c-.78.78-.78 2.05 0 2.83L4 21.41c.39.39.9.59 1.41.59.51 0 1.02-.2 1.41-.59l7.78-7.78 2.81-2.81c.8-.78.8-2.07 0-2.86zM5.41 20L4 18.59l7.72-7.72 1.47 1.35L5.41 20z\"/>\n",
              "  </svg>\n",
              "      </button>\n",
              "      \n",
              "  <style>\n",
              "    .colab-df-container {\n",
              "      display:flex;\n",
              "      flex-wrap:wrap;\n",
              "      gap: 12px;\n",
              "    }\n",
              "\n",
              "    .colab-df-convert {\n",
              "      background-color: #E8F0FE;\n",
              "      border: none;\n",
              "      border-radius: 50%;\n",
              "      cursor: pointer;\n",
              "      display: none;\n",
              "      fill: #1967D2;\n",
              "      height: 32px;\n",
              "      padding: 0 0 0 0;\n",
              "      width: 32px;\n",
              "    }\n",
              "\n",
              "    .colab-df-convert:hover {\n",
              "      background-color: #E2EBFA;\n",
              "      box-shadow: 0px 1px 2px rgba(60, 64, 67, 0.3), 0px 1px 3px 1px rgba(60, 64, 67, 0.15);\n",
              "      fill: #174EA6;\n",
              "    }\n",
              "\n",
              "    [theme=dark] .colab-df-convert {\n",
              "      background-color: #3B4455;\n",
              "      fill: #D2E3FC;\n",
              "    }\n",
              "\n",
              "    [theme=dark] .colab-df-convert:hover {\n",
              "      background-color: #434B5C;\n",
              "      box-shadow: 0px 1px 3px 1px rgba(0, 0, 0, 0.15);\n",
              "      filter: drop-shadow(0px 1px 2px rgba(0, 0, 0, 0.3));\n",
              "      fill: #FFFFFF;\n",
              "    }\n",
              "  </style>\n",
              "\n",
              "      <script>\n",
              "        const buttonEl =\n",
              "          document.querySelector('#df-14ed553a-8b54-4eff-b8a9-142f31da620e button.colab-df-convert');\n",
              "        buttonEl.style.display =\n",
              "          google.colab.kernel.accessAllowed ? 'block' : 'none';\n",
              "\n",
              "        async function convertToInteractive(key) {\n",
              "          const element = document.querySelector('#df-14ed553a-8b54-4eff-b8a9-142f31da620e');\n",
              "          const dataTable =\n",
              "            await google.colab.kernel.invokeFunction('convertToInteractive',\n",
              "                                                     [key], {});\n",
              "          if (!dataTable) return;\n",
              "\n",
              "          const docLinkHtml = 'Like what you see? Visit the ' +\n",
              "            '<a target=\"_blank\" href=https://colab.research.google.com/notebooks/data_table.ipynb>data table notebook</a>'\n",
              "            + ' to learn more about interactive tables.';\n",
              "          element.innerHTML = '';\n",
              "          dataTable['output_type'] = 'display_data';\n",
              "          await google.colab.output.renderOutput(dataTable, element);\n",
              "          const docLink = document.createElement('div');\n",
              "          docLink.innerHTML = docLinkHtml;\n",
              "          element.appendChild(docLink);\n",
              "        }\n",
              "      </script>\n",
              "    </div>\n",
              "  </div>\n",
              "  "
            ]
          },
          "metadata": {},
          "execution_count": 14
        }
      ]
    },
    {
      "cell_type": "code",
      "source": [
        "## showcase correlation matrix and 9x9  scatter matrix\n",
        "fig, ax = plt.subplots(figsize=(12,8))#, dpi = 300\n",
        "x,y='cpuuser','load1'\n",
        "plt.scatter(transformed_data[x],transformed_data[y])\n",
        "plt.title('CPU_user Vs Load1',fontsize=24)\n",
        "plt.xlabel(x)\n",
        "plt.ylabel(y)\n",
        "plt.savefig('user_load.png',dpi=300)\n",
        "plt.show()"
      ],
      "metadata": {
        "colab": {
          "base_uri": "https://localhost:8080/"
        },
        "id": "QKOa2bOCtGy_",
        "outputId": "3c4c78f0-de37-42ef-8c5f-48932b4ff7e3"
      },
      "execution_count": null,
      "outputs": [
        {
          "output_type": "display_data",
          "data": {
            "text/plain": [
              "<Figure size 864x576 with 1 Axes>"
            ],
            "image/png": "[encoded data removed]"
          },
          "metadata": {
            "needs_background": "light"
          }
        }
      ]
    },
    {
      "cell_type": "code",
      "source": [
        "miss_hit_ratio(data,title='Miss Hit Ratio Before Transformation')"
      ],
      "metadata": {
        "colab": {
          "base_uri": "https://localhost:8080/"
        },
        "id": "e8LylZ0R18zi",
        "outputId": "ef5028da-0b84-4040-e418-8a3f29fcddad"
      },
      "execution_count": null,
      "outputs": [
        {
          "output_type": "display_data",
          "data": {
            "text/plain": [
              "<Figure size 1332x756 with 1 Axes>"
            ],
            "image/png": "[encoded data removed]"
          },
          "metadata": {
            "needs_background": "light"
          }
        }
      ]
    },
    {
      "cell_type": "markdown",
      "source": [
        "# Exploratory Data Analysis"
      ],
      "metadata": {
        "id": "KE7jJDKO02vm"
      }
    },
    {
      "cell_type": "code",
      "source": [
        "transformed_data.hist(bins=10, figsize=(15, 10))\n",
        "plt.savefig('histograms.png',dpi=300)\n",
        "plt.show()"
      ],
      "metadata": {
        "colab": {
          "base_uri": "https://localhost:8080/"
        },
        "id": "yDwmt_tiux8p",
        "outputId": "414994f4-6831-4260-c9de-88fde7229f34"
      },
      "execution_count": null,
      "outputs": [
        {
          "output_type": "display_data",
          "data": {
            "text/plain": [
              "<Figure size 1080x720 with 9 Axes>"
            ],
            "image/png": "[encoded data removed]"
          },
          "metadata": {
            "needs_background": "light"
          }
        }
      ]
    },
    {
      "cell_type": "code",
      "source": [
        "transformed_data[['cpuuser','cpuidle']].boxplot()\n",
        "\n",
        "plt.xticks(rotation=45)\n",
        "plt.savefig('box-user-idle.png',dpi=300, bbox_inches = \"tight\")\n",
        "plt.show()"
      ],
      "metadata": {
        "colab": {
          "base_uri": "https://localhost:8080/"
        },
        "id": "pr4L8MZNwIkh",
        "outputId": "a3669c7d-1a9b-4faf-c3e4-d77c72694fc2"
      },
      "execution_count": null,
      "outputs": [
        {
          "output_type": "display_data",
          "data": {
            "text/plain": [
              "<Figure size 432x288 with 1 Axes>"
            ],
            "image/png": "[encoded data removed]"
          },
          "metadata": {
            "needs_background": "light"
          }
        }
      ]
    },
    {
      "cell_type": "code",
      "source": [
        "transformed_data[['cpuiowait','cpusystem','cpunice']].boxplot() #'cpuiowait','cpunice'\n",
        "\n",
        "plt.xticks(rotation=45)\n",
        "plt.savefig('box-iowait-system-nice.png',dpi=300, bbox_inches = \"tight\")\n",
        "plt.show()"
      ],
      "metadata": {
        "colab": {
          "base_uri": "https://localhost:8080/"
        },
        "id": "xDF4As_eypi3",
        "outputId": "6158af01-212f-4e04-b2bb-c934829e58fa"
      },
      "execution_count": null,
      "outputs": [
        {
          "output_type": "display_data",
          "data": {
            "text/plain": [
              "<Figure size 432x288 with 1 Axes>"
            ],
            "image/png": "[encoded data removed]"
          },
          "metadata": {
            "needs_background": "light"
          }
        }
      ]
    },
    {
      "cell_type": "code",
      "source": [
        "transformed_data[['load1','load5','load15',]].boxplot()\n",
        "\n",
        "plt.xticks(rotation=45)\n",
        "plt.savefig('box-load1-5-15.png',dpi=300, bbox_inches = \"tight\")\n",
        "plt.show()"
      ],
      "metadata": {
        "colab": {
          "base_uri": "https://localhost:8080/"
        },
        "id": "Acm4tUSgyKjo",
        "outputId": "38f38f2d-8c49-466b-db35-b617ffa19318"
      },
      "execution_count": null,
      "outputs": [
        {
          "output_type": "display_data",
          "data": {
            "text/plain": [
              "<Figure size 432x288 with 1 Axes>"
            ],
            "image/png": "[encoded data removed]"
          },
          "metadata": {
            "needs_background": "light"
          }
        }
      ]
    },
    {
      "cell_type": "markdown",
      "source": [
        "### Excluding strongly correlated values \n",
        "\n",
        "Since, They do not contribute in prediction"
      ],
      "metadata": {
        "id": "vZYhsWYwzbxP"
      }
    },
    {
      "cell_type": "code",
      "source": [
        "corr_matrix = transformed_data.corr().abs()\n",
        "\n",
        "upper = corr_matrix.where(np.triu(np.ones(corr_matrix.shape), k=1).astype(np.bool))\n",
        "\n",
        "threshold = 0.95\n",
        "to_drop = [column for column in upper.columns if any(upper[column] > threshold)]\n",
        "\n",
        "transformed_data.drop(to_drop,axis=1,inplace=True)\n",
        "\n",
        "plt.figure(figsize=(12, 8))\n",
        "sns.heatmap(upper)\n",
        "plt.savefig('correlation.png',dpi=300)\n",
        "plt.plot()"
      ],
      "metadata": {
        "id": "VaFnRth0lIjv",
        "colab": {
          "base_uri": "https://localhost:8080/"
        },
        "outputId": "1f48554c-cff6-4653-c4ce-e4fc16c02268"
      },
      "execution_count": null,
      "outputs": [
        {
          "output_type": "execute_result",
          "data": {
            "text/plain": [
              "[]"
            ]
          },
          "metadata": {},
          "execution_count": 21
        },
        {
          "output_type": "display_data",
          "data": {
            "text/plain": [
              "<Figure size 864x576 with 2 Axes>"
            ],
            "image/png": "[encoded data removed]"
          },
          "metadata": {
            "needs_background": "light"
          }
        }
      ]
    },
    {
      "cell_type": "code",
      "source": [
        "to_drop"
      ],
      "metadata": {
        "colab": {
          "base_uri": "https://localhost:8080/"
        },
        "id": "-fYRptylSIOt",
        "outputId": "87f8f4ba-a816-406b-f57a-5c4a369bce79"
      },
      "execution_count": null,
      "outputs": [
        {
          "output_type": "execute_result",
          "data": {
            "text/plain": [
              "['load5', 'load15']"
            ]
          },
          "metadata": {},
          "execution_count": 22
        }
      ]
    },
    {
      "cell_type": "markdown",
      "source": [
        "# Clustering"
      ],
      "metadata": {
        "id": "-LSbio-SkLuB"
      }
    },
    {
      "cell_type": "markdown",
      "source": [
        "### Train Data Generation"
      ],
      "metadata": {
        "id": "NEv-FIRn66mN"
      }
    },
    {
      "cell_type": "code",
      "source": [
        "train_data = transformed_data.drop('hostname',axis=1).fillna(0) #Since its a null value\n",
        "\n",
        "scaler = StandardScaler()\n",
        "train_data = scaler.fit_transform(train_data) #X\n",
        "train_data.shape"
      ],
      "metadata": {
        "colab": {
          "base_uri": "https://localhost:8080/"
        },
        "id": "uAdEhwC364Qm",
        "outputId": "4b001e84-3055-4526-c812-1574f8f0a793"
      },
      "execution_count": null,
      "outputs": [
        {
          "output_type": "execute_result",
          "data": {
            "text/plain": [
              "(477, 7)"
            ]
          },
          "metadata": {},
          "execution_count": 23
        }
      ]
    },
    {
      "cell_type": "markdown",
      "source": [
        "### Dimensionality Reduction"
      ],
      "metadata": {
        "id": "7g_Es1016jTE"
      }
    },
    {
      "cell_type": "code",
      "source": [
        "# Using The reduced training set for Visualization\n",
        "pca = PCA(n_components = 2)\n",
        "reduced_training_data = pca.fit_transform(train_data)\n",
        "\n",
        "print(pca.explained_variance_ratio_,pca.singular_values_)"
      ],
      "metadata": {
        "colab": {
          "base_uri": "https://localhost:8080/"
        },
        "id": "XvRDyZBy6iPl",
        "outputId": "1e1baccd-2692-43ad-d013-0b526f693df3"
      },
      "execution_count": null,
      "outputs": [
        {
          "output_type": "stream",
          "name": "stdout",
          "text": [
            "[0.59044872 0.16204545] [44.4016698  23.26090627]\n"
          ]
        }
      ]
    },
    {
      "cell_type": "code",
      "source": [
        "# from sklearn.cluster import KMeans\n",
        "# k = 5\n",
        "# kmeans= KMeans(n_clusters=k,random_state=42)\n",
        "# y_pred = kmeans.fit_predict(train_data)\n",
        "# len(y_pred)"
      ],
      "metadata": {
        "id": "cXqN94ipj3-z"
      },
      "execution_count": null,
      "outputs": []
    },
    {
      "cell_type": "markdown",
      "source": [
        "### DBSCAN"
      ],
      "metadata": {
        "id": "VmFhLwLTCVQJ"
      }
    },
    {
      "cell_type": "code",
      "source": [
        "dbscan = DBSCAN(eps=0.5, min_samples=2)\n",
        "dbscan.fit(train_data)"
      ],
      "metadata": {
        "colab": {
          "base_uri": "https://localhost:8080/"
        },
        "id": "bCmox9vnCXiW",
        "outputId": "84c38cfd-14a6-4e47-d8eb-3eb470685feb"
      },
      "execution_count": null,
      "outputs": [
        {
          "output_type": "execute_result",
          "data": {
            "text/plain": [
              "DBSCAN(min_samples=2)"
            ]
          },
          "metadata": {},
          "execution_count": 26
        }
      ]
    },
    {
      "cell_type": "code",
      "source": [
        "set(dbscan.labels_)"
      ],
      "metadata": {
        "id": "qVlKlGmcCn1B"
      },
      "execution_count": null,
      "outputs": []
    },
    {
      "cell_type": "code",
      "source": [
        "len(dbscan.core_sample_indices_)\n",
        "transformed_data['DBSCAN_anomalies'] = pd.Series(dbscan.labels_).apply(lambda x: 1 if x!=-1 else -1)"
      ],
      "metadata": {
        "id": "5_WeqMMpCn3i"
      },
      "execution_count": null,
      "outputs": []
    },
    {
      "cell_type": "code",
      "source": [
        "plt.figure(figsize=(12, 8))\n",
        "X = reduced_training_data\n",
        "size=100\n",
        "core_mask = np.zeros_like(dbscan.labels_, dtype=bool)\n",
        "core_mask[dbscan.core_sample_indices_] = True\n",
        "anomalies_mask = dbscan.labels_ == -1\n",
        "non_core_mask = ~(core_mask | anomalies_mask)\n",
        "\n",
        "cores = dbscan.components_\n",
        "anomalies = X[anomalies_mask]\n",
        "non_cores = X[non_core_mask]\n",
        "\n",
        "plt.scatter(cores[:, 0], cores[:, 1],\n",
        "            c=dbscan.labels_[core_mask], marker='o', s=size, cmap=\"Paired\")\n",
        "plt.scatter(cores[:, 0], cores[:, 1], marker='*', s=20, c=dbscan.labels_[core_mask])\n",
        "plt.scatter(anomalies[:, 0], anomalies[:, 1],\n",
        "            c=\"r\", marker=\"x\", s=100, label='Anomalies')\n",
        "plt.scatter(non_cores[:, 0], non_cores[:, 1], c=dbscan.labels_[non_core_mask], marker=\".\", label='Core and Non-Core Point')\n",
        "plt.xlabel(\"$x_1$\", fontsize=14)\n",
        "plt.ylabel(\"$x_2$\", fontsize=14, rotation=0)\n",
        "plt.title(\"DBSCAN\",fontsize=24)\n",
        "plt.legend()\n",
        "plt.savefig('DBSCAN.png',dpi=300)\n",
        "plt.show()"
      ],
      "metadata": {
        "id": "sPMXCRSHCn6C",
        "colab": {
          "base_uri": "https://localhost:8080/"
        },
        "outputId": "e685a5be-3358-4f7c-d93f-9555b2e67280"
      },
      "execution_count": null,
      "outputs": [
        {
          "output_type": "display_data",
          "data": {
            "text/plain": [
              "<Figure size 864x576 with 1 Axes>"
            ],
            "image/png": "[encoded data removed]"
          },
          "metadata": {
            "needs_background": "light"
          }
        }
      ]
    },
    {
      "cell_type": "markdown",
      "source": [
        "### GMM"
      ],
      "metadata": {
        "id": "RlWW2W_YCQov"
      }
    },
    {
      "cell_type": "code",
      "source": [
        "n_components = np.arange(1,50)\n",
        "\n",
        "models = [GaussianMixture(n, covariance_type='tied', n_init=10,random_state=42).fit(train_data)\n",
        "          for n in n_components]\n",
        "          \n",
        "\n",
        "plt.figure(figsize=(12, 8))\n",
        "plt.title(\"AIC and BIC trends\")\n",
        "plt.plot(n_components, [m.bic(train_data) for m in models], label='BIC')\n",
        "plt.plot(n_components, [m.aic(train_data) for m in models], label='AIC')\n",
        "plt.legend(loc='best')\n",
        "plt.xlabel('n_components');\n",
        "plt.show()"
      ],
      "metadata": {
        "colab": {
          "base_uri": "https://localhost:8080/"
        },
        "id": "CpZazzhB0nxa",
        "outputId": "a5176271-4fef-43a4-ba15-2dad249a674f"
      },
      "execution_count": null,
      "outputs": [
        {
          "output_type": "display_data",
          "data": {
            "text/plain": [
              "<Figure size 864x576 with 1 Axes>"
            ],
            "image/png": "[encoded data removed]"
          },
          "metadata": {
            "needs_background": "light"
          }
        }
      ]
    },
    {
      "cell_type": "code",
      "source": [
        "## GMM\n",
        "gmm = GaussianMixture(n_components=2,covariance_type=\"tied\",n_init=10, random_state=42).fit(train_data)\n",
        "labels = gmm.predict(train_data)"
      ],
      "metadata": {
        "id": "kzvjITRH3InK"
      },
      "execution_count": null,
      "outputs": []
    },
    {
      "cell_type": "code",
      "source": [
        "(gmm.converged_,gmm.n_iter_)"
      ],
      "metadata": {
        "colab": {
          "base_uri": "https://localhost:8080/"
        },
        "id": "ixeN-CIv9MgC",
        "outputId": "7061d77e-7b03-43fa-a6d3-19c844420ffc"
      },
      "execution_count": null,
      "outputs": [
        {
          "output_type": "execute_result",
          "data": {
            "text/plain": [
              "(True, 4)"
            ]
          },
          "metadata": {},
          "execution_count": 32
        }
      ]
    },
    {
      "cell_type": "code",
      "source": [
        "# Generating sample data\n",
        "# X_new, y_new = gmm.sample(2)\n",
        "# X_new,y_new"
      ],
      "metadata": {
        "id": "8efjY75s9e7g"
      },
      "execution_count": null,
      "outputs": []
    },
    {
      "cell_type": "code",
      "source": [
        "densities = gmm.score_samples(train_data)\n",
        "\n",
        "density_threshold = np.percentile(densities,3)\n",
        "anomalies = reduced_training_data[densities < density_threshold]\n",
        "\n",
        "plt.figure(figsize=(12, 8))\n",
        "plt.scatter(reduced_training_data[:,0],reduced_training_data[:,1],s=40,cmap='viridis',label='inliers'); #c=labels,\n",
        "plt.scatter(anomalies[:,0], anomalies[:,1], s=300,color='r', marker='*',label='outliers');\n",
        "plt.xlabel(\"$x_1$\", fontsize=14)\n",
        "plt.ylabel(\"$x_2$\", fontsize=14, rotation=0)\n",
        "plt.title(\"Gaussian Mixture Models\",fontsize=24)\n",
        "plt.legend(loc='best')\n",
        "plt.savefig('gausian_mixture_model.png',dpi=300)\n",
        "plt.show()"
      ],
      "metadata": {
        "colab": {
          "base_uri": "https://localhost:8080/"
        },
        "id": "0yTlm_nf9wZJ",
        "outputId": "35c2b62b-0bc2-420a-eae8-6639692c6c90"
      },
      "execution_count": null,
      "outputs": [
        {
          "output_type": "display_data",
          "data": {
            "text/plain": [
              "<Figure size 864x576 with 1 Axes>"
            ],
            "image/png": "[encoded data removed]"
          },
          "metadata": {
            "needs_background": "light"
          }
        }
      ]
    },
    {
      "cell_type": "code",
      "source": [
        "transformed_data['gmm_anomalies'] = pd.Series(labels).apply(lambda x: -1 if x!=1 else 1)\n",
        "transformed_data"
      ],
      "metadata": {
        "id": "MbrxmVgepCRY",
        "colab": {
          "base_uri": "https://localhost:8080/"
        },
        "outputId": "5b5687a7-be69-4acf-dfb9-cbe617e5101b"
      },
      "execution_count": null,
      "outputs": [
        {
          "output_type": "execute_result",
          "data": {
            "text/plain": [
              "     hostname  cpuuser  cpusystem  cpuiowait  cpuidle  cpunice   procs  load1  \\\n",
              "0      host_2    0.444      0.312      0.070   99.176    0.000  1448.0  0.004   \n",
              "1      host_9    0.204      0.108      0.000   99.688    0.000  1355.0  0.002   \n",
              "2      host_9    0.204      0.108      0.000   99.688    0.000  1342.0  0.002   \n",
              "3     host_14    0.232      0.118      0.000   99.648    0.000  1362.0  0.002   \n",
              "4     host_14    0.232      0.118      0.000   99.648    0.000  1362.0  0.001   \n",
              "..        ...      ...        ...        ...      ...      ...     ...    ...   \n",
              "472  host_347    2.422      1.188      0.034   96.210    0.146  4040.0  0.083   \n",
              "473  host_363    5.716      1.232      0.024   89.982    3.048  2601.0  0.155   \n",
              "474  host_373    9.268      2.332      0.278   87.958    0.168  2826.0  0.131   \n",
              "475  host_388    0.608      0.174      0.026   99.192    0.000  1402.0  0.004   \n",
              "476  host_391    2.772      0.642      0.030   96.556    0.000  1439.0  0.026   \n",
              "\n",
              "     DBSCAN_anomalies  gmm_anomalies  \n",
              "0                   1             -1  \n",
              "1                   1             -1  \n",
              "2                   1             -1  \n",
              "3                   1             -1  \n",
              "4                   1             -1  \n",
              "..                ...            ...  \n",
              "472                -1             -1  \n",
              "473                -1             -1  \n",
              "474                -1             -1  \n",
              "475                 1             -1  \n",
              "476                 1             -1  \n",
              "\n",
              "[477 rows x 10 columns]"
            ],
            "text/html": [
              "\n",
              "  <div id=\"df-a52d8362-945d-4d1d-adfe-5ab4cb5cbf74\">\n",
              "    <div class=\"colab-df-container\">\n",
              "      <div>\n",
              "<style scoped>\n",
              "    .dataframe tbody tr th:only-of-type {\n",
              "        vertical-align: middle;\n",
              "    }\n",
              "\n",
              "    .dataframe tbody tr th {\n",
              "        vertical-align: top;\n",
              "    }\n",
              "\n",
              "    .dataframe thead th {\n",
              "        text-align: right;\n",
              "    }\n",
              "</style>\n",
              "<table border=\"1\" class=\"dataframe\">\n",
              "  <thead>\n",
              "    <tr style=\"text-align: right;\">\n",
              "      <th></th>\n",
              "      <th>hostname</th>\n",
              "      <th>cpuuser</th>\n",
              "      <th>cpusystem</th>\n",
              "      <th>cpuiowait</th>\n",
              "      <th>cpuidle</th>\n",
              "      <th>cpunice</th>\n",
              "      <th>procs</th>\n",
              "      <th>load1</th>\n",
              "      <th>DBSCAN_anomalies</th>\n",
              "      <th>gmm_anomalies</th>\n",
              "    </tr>\n",
              "  </thead>\n",
              "  <tbody>\n",
              "    <tr>\n",
              "      <th>0</th>\n",
              "      <td>host_2</td>\n",
              "      <td>0.444</td>\n",
              "      <td>0.312</td>\n",
              "      <td>0.070</td>\n",
              "      <td>99.176</td>\n",
              "      <td>0.000</td>\n",
              "      <td>1448.0</td>\n",
              "      <td>0.004</td>\n",
              "      <td>1</td>\n",
              "      <td>-1</td>\n",
              "    </tr>\n",
              "    <tr>\n",
              "      <th>1</th>\n",
              "      <td>host_9</td>\n",
              "      <td>0.204</td>\n",
              "      <td>0.108</td>\n",
              "      <td>0.000</td>\n",
              "      <td>99.688</td>\n",
              "      <td>0.000</td>\n",
              "      <td>1355.0</td>\n",
              "      <td>0.002</td>\n",
              "      <td>1</td>\n",
              "      <td>-1</td>\n",
              "    </tr>\n",
              "    <tr>\n",
              "      <th>2</th>\n",
              "      <td>host_9</td>\n",
              "      <td>0.204</td>\n",
              "      <td>0.108</td>\n",
              "      <td>0.000</td>\n",
              "      <td>99.688</td>\n",
              "      <td>0.000</td>\n",
              "      <td>1342.0</td>\n",
              "      <td>0.002</td>\n",
              "      <td>1</td>\n",
              "      <td>-1</td>\n",
              "    </tr>\n",
              "    <tr>\n",
              "      <th>3</th>\n",
              "      <td>host_14</td>\n",
              "      <td>0.232</td>\n",
              "      <td>0.118</td>\n",
              "      <td>0.000</td>\n",
              "      <td>99.648</td>\n",
              "      <td>0.000</td>\n",
              "      <td>1362.0</td>\n",
              "      <td>0.002</td>\n",
              "      <td>1</td>\n",
              "      <td>-1</td>\n",
              "    </tr>\n",
              "    <tr>\n",
              "      <th>4</th>\n",
              "      <td>host_14</td>\n",
              "      <td>0.232</td>\n",
              "      <td>0.118</td>\n",
              "      <td>0.000</td>\n",
              "      <td>99.648</td>\n",
              "      <td>0.000</td>\n",
              "      <td>1362.0</td>\n",
              "      <td>0.001</td>\n",
              "      <td>1</td>\n",
              "      <td>-1</td>\n",
              "    </tr>\n",
              "    <tr>\n",
              "      <th>...</th>\n",
              "      <td>...</td>\n",
              "      <td>...</td>\n",
              "      <td>...</td>\n",
              "      <td>...</td>\n",
              "      <td>...</td>\n",
              "      <td>...</td>\n",
              "      <td>...</td>\n",
              "      <td>...</td>\n",
              "      <td>...</td>\n",
              "      <td>...</td>\n",
              "    </tr>\n",
              "    <tr>\n",
              "      <th>472</th>\n",
              "      <td>host_347</td>\n",
              "      <td>2.422</td>\n",
              "      <td>1.188</td>\n",
              "      <td>0.034</td>\n",
              "      <td>96.210</td>\n",
              "      <td>0.146</td>\n",
              "      <td>4040.0</td>\n",
              "      <td>0.083</td>\n",
              "      <td>-1</td>\n",
              "      <td>-1</td>\n",
              "    </tr>\n",
              "    <tr>\n",
              "      <th>473</th>\n",
              "      <td>host_363</td>\n",
              "      <td>5.716</td>\n",
              "      <td>1.232</td>\n",
              "      <td>0.024</td>\n",
              "      <td>89.982</td>\n",
              "      <td>3.048</td>\n",
              "      <td>2601.0</td>\n",
              "      <td>0.155</td>\n",
              "      <td>-1</td>\n",
              "      <td>-1</td>\n",
              "    </tr>\n",
              "    <tr>\n",
              "      <th>474</th>\n",
              "      <td>host_373</td>\n",
              "      <td>9.268</td>\n",
              "      <td>2.332</td>\n",
              "      <td>0.278</td>\n",
              "      <td>87.958</td>\n",
              "      <td>0.168</td>\n",
              "      <td>2826.0</td>\n",
              "      <td>0.131</td>\n",
              "      <td>-1</td>\n",
              "      <td>-1</td>\n",
              "    </tr>\n",
              "    <tr>\n",
              "      <th>475</th>\n",
              "      <td>host_388</td>\n",
              "      <td>0.608</td>\n",
              "      <td>0.174</td>\n",
              "      <td>0.026</td>\n",
              "      <td>99.192</td>\n",
              "      <td>0.000</td>\n",
              "      <td>1402.0</td>\n",
              "      <td>0.004</td>\n",
              "      <td>1</td>\n",
              "      <td>-1</td>\n",
              "    </tr>\n",
              "    <tr>\n",
              "      <th>476</th>\n",
              "      <td>host_391</td>\n",
              "      <td>2.772</td>\n",
              "      <td>0.642</td>\n",
              "      <td>0.030</td>\n",
              "      <td>96.556</td>\n",
              "      <td>0.000</td>\n",
              "      <td>1439.0</td>\n",
              "      <td>0.026</td>\n",
              "      <td>1</td>\n",
              "      <td>-1</td>\n",
              "    </tr>\n",
              "  </tbody>\n",
              "</table>\n",
              "<p>477 rows × 10 columns</p>\n",
              "</div>\n",
              "      <button class=\"colab-df-convert\" onclick=\"convertToInteractive('df-a52d8362-945d-4d1d-adfe-5ab4cb5cbf74')\"\n",
              "              title=\"Convert this dataframe to an interactive table.\"\n",
              "              style=\"display:none;\">\n",
              "        \n",
              "  <svg xmlns=\"http://www.w3.org/2000/svg\" height=\"24px\"viewBox=\"0 0 24 24\"\n",
              "       width=\"24px\">\n",
              "    <path d=\"M0 0h24v24H0V0z\" fill=\"none\"/>\n",
              "    <path d=\"M18.56 5.44l.94 2.06.94-2.06 2.06-.94-2.06-.94-.94-2.06-.94 2.06-2.06.94zm-11 1L8.5 8.5l.94-2.06 2.06-.94-2.06-.94L8.5 2.5l-.94 2.06-2.06.94zm10 10l.94 2.06.94-2.06 2.06-.94-2.06-.94-.94-2.06-.94 2.06-2.06.94z\"/><path d=\"M17.41 7.96l-1.37-1.37c-.4-.4-.92-.59-1.43-.59-.52 0-1.04.2-1.43.59L10.3 9.45l-7.72 7.72c-.78.78-.78 2.05 0 2.83L4 21.41c.39.39.9.59 1.41.59.51 0 1.02-.2 1.41-.59l7.78-7.78 2.81-2.81c.8-.78.8-2.07 0-2.86zM5.41 20L4 18.59l7.72-7.72 1.47 1.35L5.41 20z\"/>\n",
              "  </svg>\n",
              "      </button>\n",
              "      \n",
              "  <style>\n",
              "    .colab-df-container {\n",
              "      display:flex;\n",
              "      flex-wrap:wrap;\n",
              "      gap: 12px;\n",
              "    }\n",
              "\n",
              "    .colab-df-convert {\n",
              "      background-color: #E8F0FE;\n",
              "      border: none;\n",
              "      border-radius: 50%;\n",
              "      cursor: pointer;\n",
              "      display: none;\n",
              "      fill: #1967D2;\n",
              "      height: 32px;\n",
              "      padding: 0 0 0 0;\n",
              "      width: 32px;\n",
              "    }\n",
              "\n",
              "    .colab-df-convert:hover {\n",
              "      background-color: #E2EBFA;\n",
              "      box-shadow: 0px 1px 2px rgba(60, 64, 67, 0.3), 0px 1px 3px 1px rgba(60, 64, 67, 0.15);\n",
              "      fill: #174EA6;\n",
              "    }\n",
              "\n",
              "    [theme=dark] .colab-df-convert {\n",
              "      background-color: #3B4455;\n",
              "      fill: #D2E3FC;\n",
              "    }\n",
              "\n",
              "    [theme=dark] .colab-df-convert:hover {\n",
              "      background-color: #434B5C;\n",
              "      box-shadow: 0px 1px 3px 1px rgba(0, 0, 0, 0.15);\n",
              "      filter: drop-shadow(0px 1px 2px rgba(0, 0, 0, 0.3));\n",
              "      fill: #FFFFFF;\n",
              "    }\n",
              "  </style>\n",
              "\n",
              "      <script>\n",
              "        const buttonEl =\n",
              "          document.querySelector('#df-a52d8362-945d-4d1d-adfe-5ab4cb5cbf74 button.colab-df-convert');\n",
              "        buttonEl.style.display =\n",
              "          google.colab.kernel.accessAllowed ? 'block' : 'none';\n",
              "\n",
              "        async function convertToInteractive(key) {\n",
              "          const element = document.querySelector('#df-a52d8362-945d-4d1d-adfe-5ab4cb5cbf74');\n",
              "          const dataTable =\n",
              "            await google.colab.kernel.invokeFunction('convertToInteractive',\n",
              "                                                     [key], {});\n",
              "          if (!dataTable) return;\n",
              "\n",
              "          const docLinkHtml = 'Like what you see? Visit the ' +\n",
              "            '<a target=\"_blank\" href=https://colab.research.google.com/notebooks/data_table.ipynb>data table notebook</a>'\n",
              "            + ' to learn more about interactive tables.';\n",
              "          element.innerHTML = '';\n",
              "          dataTable['output_type'] = 'display_data';\n",
              "          await google.colab.output.renderOutput(dataTable, element);\n",
              "          const docLink = document.createElement('div');\n",
              "          docLink.innerHTML = docLinkHtml;\n",
              "          element.appendChild(docLink);\n",
              "        }\n",
              "      </script>\n",
              "    </div>\n",
              "  </div>\n",
              "  "
            ]
          },
          "metadata": {},
          "execution_count": 35
        }
      ]
    },
    {
      "cell_type": "code",
      "source": [
        ""
      ],
      "metadata": {
        "id": "RzZAJyUM-T5_"
      },
      "execution_count": null,
      "outputs": []
    },
    {
      "cell_type": "markdown",
      "source": [
        "## Isolation forest"
      ],
      "metadata": {
        "id": "sJqIQT_79Ggs"
      }
    },
    {
      "cell_type": "code",
      "source": [
        "clf = IsolationForest(n_estimators = 100, max_samples='auto',contamination = float(0.05),max_features=1.0,bootstrap = False,n_jobs = -1, random_state=42)\n",
        "clf.fit(train_data)\n",
        "labels = clf.predict(train_data)"
      ],
      "metadata": {
        "id": "2wHrUS6CDtE4"
      },
      "execution_count": null,
      "outputs": []
    },
    {
      "cell_type": "code",
      "source": [
        "transformed_data['isolation_forest_anomalies'] = labels\n",
        "outlier_index = list(transformed_data.loc[transformed_data['isolation_forest_anomalies']==-1].index)"
      ],
      "metadata": {
        "id": "toAXWJxzStoB"
      },
      "execution_count": null,
      "outputs": []
    },
    {
      "cell_type": "code",
      "source": [
        "res = pd.DataFrame(reduced_training_data)\n",
        "Z = np.array(res)\n",
        "plt.figure(figsize=(12, 8))\n",
        "plt.title(\"Isolation Forest\",fontsize=24)\n",
        "\n",
        "b1=plt.scatter(res[0],res[1],\n",
        "               c='green',s=20,label='normal points')\n",
        "b1=plt.scatter(res.iloc[outlier_index,0],res.iloc[outlier_index,1],\n",
        "               c='red', label='predicted outliers')\n",
        "plt.xlabel(\"$x_1$\", fontsize=14)\n",
        "plt.ylabel(\"$x_2$\", fontsize=14, rotation=0)\n",
        "plt.legend(loc='upper right')\n",
        "plt.savefig('Isolation_Forest.png',dpi=300)\n",
        "plt.show()"
      ],
      "metadata": {
        "colab": {
          "base_uri": "https://localhost:8080/"
        },
        "id": "zpwQfD6G4me6",
        "outputId": "c83a3eb5-9ba1-43a5-920c-de6f3d1dae2e"
      },
      "execution_count": null,
      "outputs": [
        {
          "output_type": "display_data",
          "data": {
            "text/plain": [
              "<Figure size 864x576 with 1 Axes>"
            ],
            "image/png": "[encoded data removed]"
          },
          "metadata": {
            "needs_background": "light"
          }
        }
      ]
    },
    {
      "cell_type": "markdown",
      "source": [
        "## Host Anomalies"
      ],
      "metadata": {
        "id": "nFgQ5Xf9KP4e"
      }
    },
    {
      "cell_type": "code",
      "source": [
        "transformed_data"
      ],
      "metadata": {
        "colab": {
          "base_uri": "https://localhost:8080/"
        },
        "id": "yvbtVy17nzcY",
        "outputId": "de4f57a4-87dd-489b-9972-dd3800157348"
      },
      "execution_count": null,
      "outputs": [
        {
          "output_type": "execute_result",
          "data": {
            "text/plain": [
              "     hostname  cpuuser  cpusystem  cpuiowait  cpuidle  cpunice   procs  load1  \\\n",
              "0      host_2    0.444      0.312      0.070   99.176    0.000  1448.0  0.004   \n",
              "1      host_9    0.204      0.108      0.000   99.688    0.000  1355.0  0.002   \n",
              "2      host_9    0.204      0.108      0.000   99.688    0.000  1342.0  0.002   \n",
              "3     host_14    0.232      0.118      0.000   99.648    0.000  1362.0  0.002   \n",
              "4     host_14    0.232      0.118      0.000   99.648    0.000  1362.0  0.001   \n",
              "..        ...      ...        ...        ...      ...      ...     ...    ...   \n",
              "472  host_347    2.422      1.188      0.034   96.210    0.146  4040.0  0.083   \n",
              "473  host_363    5.716      1.232      0.024   89.982    3.048  2601.0  0.155   \n",
              "474  host_373    9.268      2.332      0.278   87.958    0.168  2826.0  0.131   \n",
              "475  host_388    0.608      0.174      0.026   99.192    0.000  1402.0  0.004   \n",
              "476  host_391    2.772      0.642      0.030   96.556    0.000  1439.0  0.026   \n",
              "\n",
              "     DBSCAN_anomalies  gmm_anomalies  isolation_forest_anomalies  \n",
              "0                   1             -1                           1  \n",
              "1                   1             -1                           1  \n",
              "2                   1             -1                           1  \n",
              "3                   1             -1                           1  \n",
              "4                   1             -1                           1  \n",
              "..                ...            ...                         ...  \n",
              "472                -1             -1                           1  \n",
              "473                -1             -1                          -1  \n",
              "474                -1             -1                          -1  \n",
              "475                 1             -1                           1  \n",
              "476                 1             -1                           1  \n",
              "\n",
              "[477 rows x 11 columns]"
            ],
            "text/html": [
              "\n",
              "  <div id=\"df-f5277d93-3e94-4460-8e7e-fee0502828df\">\n",
              "    <div class=\"colab-df-container\">\n",
              "      <div>\n",
              "<style scoped>\n",
              "    .dataframe tbody tr th:only-of-type {\n",
              "        vertical-align: middle;\n",
              "    }\n",
              "\n",
              "    .dataframe tbody tr th {\n",
              "        vertical-align: top;\n",
              "    }\n",
              "\n",
              "    .dataframe thead th {\n",
              "        text-align: right;\n",
              "    }\n",
              "</style>\n",
              "<table border=\"1\" class=\"dataframe\">\n",
              "  <thead>\n",
              "    <tr style=\"text-align: right;\">\n",
              "      <th></th>\n",
              "      <th>hostname</th>\n",
              "      <th>cpuuser</th>\n",
              "      <th>cpusystem</th>\n",
              "      <th>cpuiowait</th>\n",
              "      <th>cpuidle</th>\n",
              "      <th>cpunice</th>\n",
              "      <th>procs</th>\n",
              "      <th>load1</th>\n",
              "      <th>DBSCAN_anomalies</th>\n",
              "      <th>gmm_anomalies</th>\n",
              "      <th>isolation_forest_anomalies</th>\n",
              "    </tr>\n",
              "  </thead>\n",
              "  <tbody>\n",
              "    <tr>\n",
              "      <th>0</th>\n",
              "      <td>host_2</td>\n",
              "      <td>0.444</td>\n",
              "      <td>0.312</td>\n",
              "      <td>0.070</td>\n",
              "      <td>99.176</td>\n",
              "      <td>0.000</td>\n",
              "      <td>1448.0</td>\n",
              "      <td>0.004</td>\n",
              "      <td>1</td>\n",
              "      <td>-1</td>\n",
              "      <td>1</td>\n",
              "    </tr>\n",
              "    <tr>\n",
              "      <th>1</th>\n",
              "      <td>host_9</td>\n",
              "      <td>0.204</td>\n",
              "      <td>0.108</td>\n",
              "      <td>0.000</td>\n",
              "      <td>99.688</td>\n",
              "      <td>0.000</td>\n",
              "      <td>1355.0</td>\n",
              "      <td>0.002</td>\n",
              "      <td>1</td>\n",
              "      <td>-1</td>\n",
              "      <td>1</td>\n",
              "    </tr>\n",
              "    <tr>\n",
              "      <th>2</th>\n",
              "      <td>host_9</td>\n",
              "      <td>0.204</td>\n",
              "      <td>0.108</td>\n",
              "      <td>0.000</td>\n",
              "      <td>99.688</td>\n",
              "      <td>0.000</td>\n",
              "      <td>1342.0</td>\n",
              "      <td>0.002</td>\n",
              "      <td>1</td>\n",
              "      <td>-1</td>\n",
              "      <td>1</td>\n",
              "    </tr>\n",
              "    <tr>\n",
              "      <th>3</th>\n",
              "      <td>host_14</td>\n",
              "      <td>0.232</td>\n",
              "      <td>0.118</td>\n",
              "      <td>0.000</td>\n",
              "      <td>99.648</td>\n",
              "      <td>0.000</td>\n",
              "      <td>1362.0</td>\n",
              "      <td>0.002</td>\n",
              "      <td>1</td>\n",
              "      <td>-1</td>\n",
              "      <td>1</td>\n",
              "    </tr>\n",
              "    <tr>\n",
              "      <th>4</th>\n",
              "      <td>host_14</td>\n",
              "      <td>0.232</td>\n",
              "      <td>0.118</td>\n",
              "      <td>0.000</td>\n",
              "      <td>99.648</td>\n",
              "      <td>0.000</td>\n",
              "      <td>1362.0</td>\n",
              "      <td>0.001</td>\n",
              "      <td>1</td>\n",
              "      <td>-1</td>\n",
              "      <td>1</td>\n",
              "    </tr>\n",
              "    <tr>\n",
              "      <th>...</th>\n",
              "      <td>...</td>\n",
              "      <td>...</td>\n",
              "      <td>...</td>\n",
              "      <td>...</td>\n",
              "      <td>...</td>\n",
              "      <td>...</td>\n",
              "      <td>...</td>\n",
              "      <td>...</td>\n",
              "      <td>...</td>\n",
              "      <td>...</td>\n",
              "      <td>...</td>\n",
              "    </tr>\n",
              "    <tr>\n",
              "      <th>472</th>\n",
              "      <td>host_347</td>\n",
              "      <td>2.422</td>\n",
              "      <td>1.188</td>\n",
              "      <td>0.034</td>\n",
              "      <td>96.210</td>\n",
              "      <td>0.146</td>\n",
              "      <td>4040.0</td>\n",
              "      <td>0.083</td>\n",
              "      <td>-1</td>\n",
              "      <td>-1</td>\n",
              "      <td>1</td>\n",
              "    </tr>\n",
              "    <tr>\n",
              "      <th>473</th>\n",
              "      <td>host_363</td>\n",
              "      <td>5.716</td>\n",
              "      <td>1.232</td>\n",
              "      <td>0.024</td>\n",
              "      <td>89.982</td>\n",
              "      <td>3.048</td>\n",
              "      <td>2601.0</td>\n",
              "      <td>0.155</td>\n",
              "      <td>-1</td>\n",
              "      <td>-1</td>\n",
              "      <td>-1</td>\n",
              "    </tr>\n",
              "    <tr>\n",
              "      <th>474</th>\n",
              "      <td>host_373</td>\n",
              "      <td>9.268</td>\n",
              "      <td>2.332</td>\n",
              "      <td>0.278</td>\n",
              "      <td>87.958</td>\n",
              "      <td>0.168</td>\n",
              "      <td>2826.0</td>\n",
              "      <td>0.131</td>\n",
              "      <td>-1</td>\n",
              "      <td>-1</td>\n",
              "      <td>-1</td>\n",
              "    </tr>\n",
              "    <tr>\n",
              "      <th>475</th>\n",
              "      <td>host_388</td>\n",
              "      <td>0.608</td>\n",
              "      <td>0.174</td>\n",
              "      <td>0.026</td>\n",
              "      <td>99.192</td>\n",
              "      <td>0.000</td>\n",
              "      <td>1402.0</td>\n",
              "      <td>0.004</td>\n",
              "      <td>1</td>\n",
              "      <td>-1</td>\n",
              "      <td>1</td>\n",
              "    </tr>\n",
              "    <tr>\n",
              "      <th>476</th>\n",
              "      <td>host_391</td>\n",
              "      <td>2.772</td>\n",
              "      <td>0.642</td>\n",
              "      <td>0.030</td>\n",
              "      <td>96.556</td>\n",
              "      <td>0.000</td>\n",
              "      <td>1439.0</td>\n",
              "      <td>0.026</td>\n",
              "      <td>1</td>\n",
              "      <td>-1</td>\n",
              "      <td>1</td>\n",
              "    </tr>\n",
              "  </tbody>\n",
              "</table>\n",
              "<p>477 rows × 11 columns</p>\n",
              "</div>\n",
              "      <button class=\"colab-df-convert\" onclick=\"convertToInteractive('df-f5277d93-3e94-4460-8e7e-fee0502828df')\"\n",
              "              title=\"Convert this dataframe to an interactive table.\"\n",
              "              style=\"display:none;\">\n",
              "        \n",
              "  <svg xmlns=\"http://www.w3.org/2000/svg\" height=\"24px\"viewBox=\"0 0 24 24\"\n",
              "       width=\"24px\">\n",
              "    <path d=\"M0 0h24v24H0V0z\" fill=\"none\"/>\n",
              "    <path d=\"M18.56 5.44l.94 2.06.94-2.06 2.06-.94-2.06-.94-.94-2.06-.94 2.06-2.06.94zm-11 1L8.5 8.5l.94-2.06 2.06-.94-2.06-.94L8.5 2.5l-.94 2.06-2.06.94zm10 10l.94 2.06.94-2.06 2.06-.94-2.06-.94-.94-2.06-.94 2.06-2.06.94z\"/><path d=\"M17.41 7.96l-1.37-1.37c-.4-.4-.92-.59-1.43-.59-.52 0-1.04.2-1.43.59L10.3 9.45l-7.72 7.72c-.78.78-.78 2.05 0 2.83L4 21.41c.39.39.9.59 1.41.59.51 0 1.02-.2 1.41-.59l7.78-7.78 2.81-2.81c.8-.78.8-2.07 0-2.86zM5.41 20L4 18.59l7.72-7.72 1.47 1.35L5.41 20z\"/>\n",
              "  </svg>\n",
              "      </button>\n",
              "      \n",
              "  <style>\n",
              "    .colab-df-container {\n",
              "      display:flex;\n",
              "      flex-wrap:wrap;\n",
              "      gap: 12px;\n",
              "    }\n",
              "\n",
              "    .colab-df-convert {\n",
              "      background-color: #E8F0FE;\n",
              "      border: none;\n",
              "      border-radius: 50%;\n",
              "      cursor: pointer;\n",
              "      display: none;\n",
              "      fill: #1967D2;\n",
              "      height: 32px;\n",
              "      padding: 0 0 0 0;\n",
              "      width: 32px;\n",
              "    }\n",
              "\n",
              "    .colab-df-convert:hover {\n",
              "      background-color: #E2EBFA;\n",
              "      box-shadow: 0px 1px 2px rgba(60, 64, 67, 0.3), 0px 1px 3px 1px rgba(60, 64, 67, 0.15);\n",
              "      fill: #174EA6;\n",
              "    }\n",
              "\n",
              "    [theme=dark] .colab-df-convert {\n",
              "      background-color: #3B4455;\n",
              "      fill: #D2E3FC;\n",
              "    }\n",
              "\n",
              "    [theme=dark] .colab-df-convert:hover {\n",
              "      background-color: #434B5C;\n",
              "      box-shadow: 0px 1px 3px 1px rgba(0, 0, 0, 0.15);\n",
              "      filter: drop-shadow(0px 1px 2px rgba(0, 0, 0, 0.3));\n",
              "      fill: #FFFFFF;\n",
              "    }\n",
              "  </style>\n",
              "\n",
              "      <script>\n",
              "        const buttonEl =\n",
              "          document.querySelector('#df-f5277d93-3e94-4460-8e7e-fee0502828df button.colab-df-convert');\n",
              "        buttonEl.style.display =\n",
              "          google.colab.kernel.accessAllowed ? 'block' : 'none';\n",
              "\n",
              "        async function convertToInteractive(key) {\n",
              "          const element = document.querySelector('#df-f5277d93-3e94-4460-8e7e-fee0502828df');\n",
              "          const dataTable =\n",
              "            await google.colab.kernel.invokeFunction('convertToInteractive',\n",
              "                                                     [key], {});\n",
              "          if (!dataTable) return;\n",
              "\n",
              "          const docLinkHtml = 'Like what you see? Visit the ' +\n",
              "            '<a target=\"_blank\" href=https://colab.research.google.com/notebooks/data_table.ipynb>data table notebook</a>'\n",
              "            + ' to learn more about interactive tables.';\n",
              "          element.innerHTML = '';\n",
              "          dataTable['output_type'] = 'display_data';\n",
              "          await google.colab.output.renderOutput(dataTable, element);\n",
              "          const docLink = document.createElement('div');\n",
              "          docLink.innerHTML = docLinkHtml;\n",
              "          element.appendChild(docLink);\n",
              "        }\n",
              "      </script>\n",
              "    </div>\n",
              "  </div>\n",
              "  "
            ]
          },
          "metadata": {},
          "execution_count": 39
        }
      ]
    },
    {
      "cell_type": "code",
      "source": [
        "# Considering only isolation_forest_anomalies\n",
        "list(transformed_data[transformed_data.isolation_forest_anomalies==-1].hostname.unique())"
      ],
      "metadata": {
        "colab": {
          "base_uri": "https://localhost:8080/"
        },
        "id": "BfO8_Lx7LOBP",
        "outputId": "b1038dfe-bf63-4404-c61a-d5d01a995f2c"
      },
      "execution_count": null,
      "outputs": [
        {
          "output_type": "execute_result",
          "data": {
            "text/plain": [
              "['host_312',\n",
              " 'host_341',\n",
              " 'host_238',\n",
              " 'host_201',\n",
              " 'host_209',\n",
              " 'host_220',\n",
              " 'host_363',\n",
              " 'host_373']"
            ]
          },
          "metadata": {},
          "execution_count": 40
        }
      ]
    },
    {
      "cell_type": "code",
      "source": [
        "list(transformed_data[transformed_data.DBSCAN_anomalies==-1].hostname.unique())"
      ],
      "metadata": {
        "colab": {
          "base_uri": "https://localhost:8080/"
        },
        "id": "acEWwOvLoT2f",
        "outputId": "3060bddb-5bae-4843-89eb-4391dbe17880"
      },
      "execution_count": null,
      "outputs": [
        {
          "output_type": "execute_result",
          "data": {
            "text/plain": [
              "['host_156',\n",
              " 'host_194',\n",
              " 'host_341',\n",
              " 'host_238',\n",
              " 'host_215',\n",
              " 'host_87',\n",
              " 'host_125',\n",
              " 'host_136',\n",
              " 'host_147',\n",
              " 'host_159',\n",
              " 'host_209',\n",
              " 'host_237',\n",
              " 'host_347',\n",
              " 'host_363',\n",
              " 'host_373']"
            ]
          },
          "metadata": {},
          "execution_count": 41
        }
      ]
    },
    {
      "cell_type": "code",
      "source": [
        "list(transformed_data[transformed_data.gmm_anomalies==-1].hostname.unique())"
      ],
      "metadata": {
        "id": "XXn5aW4n3BD6",
        "colab": {
          "base_uri": "https://localhost:8080/"
        },
        "outputId": "0f38f2e5-37d4-4202-b19d-154b4467b582"
      },
      "execution_count": null,
      "outputs": [
        {
          "output_type": "execute_result",
          "data": {
            "text/plain": [
              "['host_2',\n",
              " 'host_9',\n",
              " 'host_14',\n",
              " 'host_22',\n",
              " 'host_29',\n",
              " 'host_30',\n",
              " 'host_50',\n",
              " 'host_84',\n",
              " 'host_95',\n",
              " 'host_111',\n",
              " 'host_135',\n",
              " 'host_143',\n",
              " 'host_156',\n",
              " 'host_161',\n",
              " 'host_166',\n",
              " 'host_179',\n",
              " 'host_194',\n",
              " 'host_195',\n",
              " 'host_211',\n",
              " 'host_216',\n",
              " 'host_222',\n",
              " 'host_234',\n",
              " 'host_245',\n",
              " 'host_248',\n",
              " 'host_256',\n",
              " 'host_257',\n",
              " 'host_268',\n",
              " 'host_273',\n",
              " 'host_289',\n",
              " 'host_7',\n",
              " 'host_18',\n",
              " 'host_31',\n",
              " 'host_33',\n",
              " 'host_312',\n",
              " 'host_46',\n",
              " 'host_78',\n",
              " 'host_91',\n",
              " 'host_99',\n",
              " 'host_322',\n",
              " 'host_325',\n",
              " 'host_332',\n",
              " 'host_333',\n",
              " 'host_184',\n",
              " 'host_188',\n",
              " 'host_199',\n",
              " 'host_204',\n",
              " 'host_238',\n",
              " 'host_250',\n",
              " 'host_267',\n",
              " 'host_300',\n",
              " 'host_309',\n",
              " 'host_86',\n",
              " 'host_154',\n",
              " 'host_187',\n",
              " 'host_336',\n",
              " 'host_215',\n",
              " 'host_218',\n",
              " 'host_259',\n",
              " 'host_264',\n",
              " 'host_5',\n",
              " 'host_34',\n",
              " 'host_35',\n",
              " 'host_37',\n",
              " 'host_43',\n",
              " 'host_45',\n",
              " 'host_47',\n",
              " 'host_49',\n",
              " 'host_51',\n",
              " 'host_52',\n",
              " 'host_54',\n",
              " 'host_56',\n",
              " 'host_59',\n",
              " 'host_63',\n",
              " 'host_76',\n",
              " 'host_87',\n",
              " 'host_98',\n",
              " 'host_114',\n",
              " 'host_124',\n",
              " 'host_125',\n",
              " 'host_136',\n",
              " 'host_142',\n",
              " 'host_145',\n",
              " 'host_147',\n",
              " 'host_159',\n",
              " 'host_185',\n",
              " 'host_192',\n",
              " 'host_206',\n",
              " 'host_213',\n",
              " 'host_219',\n",
              " 'host_237',\n",
              " 'host_240',\n",
              " 'host_249',\n",
              " 'host_251',\n",
              " 'host_255',\n",
              " 'host_290',\n",
              " 'host_292',\n",
              " 'host_347',\n",
              " 'host_363',\n",
              " 'host_373',\n",
              " 'host_388',\n",
              " 'host_391']"
            ]
          },
          "metadata": {},
          "execution_count": 42
        }
      ]
    }
  ]
}